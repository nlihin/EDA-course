{
 "cells": [
  {
   "cell_type": "markdown",
   "id": "b17f7619-3ccc-4aee-b7df-3df25631d160",
   "metadata": {},
   "source": [
    "# Unit 4: Data Manipulation\n",
    "---\n",
    "\n",
    "1. [Working with dates](#section1)\n",
    "2. [Simple Groupby](#section2)\n",
    "3. [Sorting and filtering](#section3)\n",
    "4. [Two or more attributes](#section4)\n",
    "5. [Multiple aggregations](#section5)\n",
    "6. [Tidy up](#section6)"
   ]
  },
  {
   "cell_type": "markdown",
   "id": "081eef3b-2a6f-46f7-adf4-bf86273d2fdf",
   "metadata": {},
   "source": [
    "<div>\n",
    "<img src=\"https://github.com/nlihin/EDA-course/blob/main/images/CRISP-DM.png?raw=true\" width=\"600\"/>\n",
    "</div>"
   ]
  },
  {
   "cell_type": "code",
   "execution_count": null,
   "id": "d919b9fb-0f63-48fb-8977-e262504f33f6",
   "metadata": {},
   "outputs": [],
   "source": [
    "import numpy as np"
   ]
  },
  {
   "cell_type": "code",
   "execution_count": null,
   "id": "a57b16d5-ddcb-4d4d-8fa4-1066c2aabc8d",
   "metadata": {},
   "outputs": [],
   "source": [
    "import matplotlib.pyplot as plt\n",
    "import pandas as pd\n",
    "import seaborn as sns"
   ]
  },
  {
   "cell_type": "markdown",
   "id": "ff0411b4-aa54-4bce-b3ae-96bf483ddc7a",
   "metadata": {},
   "source": [
    "Still with airport wildlife strikes. \n",
    "[Some more info on the data](https://github.com/nlihin/data-analytics/blob/main/datasets/aircraft%20wildlife%20strikes%20fieldlist.pdf)"
   ]
  },
  {
   "cell_type": "markdown",
   "id": "7b9348d2-edea-4654-ba8a-ca69d9295f39",
   "metadata": {},
   "source": [
    "This time data from 2018-2023. This dataset was too big to upload to Github, so I split it into two parts:\\\n",
    "2018-2020\\\n",
    "2021-2023"
   ]
  },
  {
   "cell_type": "code",
   "execution_count": null,
   "id": "40291288-61ea-4af0-ba59-bc8d23305653",
   "metadata": {},
   "outputs": [],
   "source": [
    "url1 = 'https://raw.githubusercontent.com/nlihin/data-analytics/main/datasets/aircraft%20wildlife%20strikes%202018-2020.csv'\n",
    "url2 = 'https://raw.githubusercontent.com/nlihin/data-analytics/main/datasets/aircraft%20wildlife%20strikes%202021-2023.csv'\n",
    "strike_df_18_20 = pd.read_csv(url1)\n",
    "strike_df_21_23 = pd.read_csv(url2)"
   ]
  },
  {
   "cell_type": "markdown",
   "id": "3c898b94-931c-45e9-87e4-a40e0fd7b816",
   "metadata": {},
   "source": [
    "#### Combine the two files into one:\n",
    "Since they have the same structure, `concat` can be used.\n",
    "You will learn other options next year in DB course, but if you're curious, [look here](https://pandas.pydata.org/docs/user_guide/merging.html)"
   ]
  },
  {
   "cell_type": "code",
   "execution_count": null,
   "id": "8ad3aa0d-d420-420c-955c-7751055e414a",
   "metadata": {},
   "outputs": [],
   "source": [
    "strike_df = pd.concat([strike_df_18_20 ,strike_df_21_23]).reset_index()\n",
    "strike_df.iloc[[0, 1, -2, -1]]"
   ]
  },
  {
   "cell_type": "markdown",
   "id": "3e90aa96-7de1-4650-9e85-951b68e28def",
   "metadata": {},
   "source": [
    "📝 Note: `reset_index` is important here, or else you get the former indices from both datasets (and then have multiple rows with the same index).  \n",
    "Another way to achieve the same thing: use `ignore_index=True` inside `pd.concat()`."
   ]
  },
  {
   "cell_type": "code",
   "execution_count": null,
   "id": "c98e8dd0-79d0-41e5-af45-1171420723ba",
   "metadata": {},
   "outputs": [],
   "source": [
    "strike_df = pd.concat([strike_df_18_20, strike_df_21_23], ignore_index=True)"
   ]
  },
  {
   "cell_type": "markdown",
   "id": "0dd84239-2497-412e-b80d-cb5b30afd450",
   "metadata": {},
   "source": [
    "### <span style=\"color:blue\"> Exercise:</span>\n",
    "> \n",
    "> How do you suggest to check that the files have been combined? (Sanity check)"
   ]
  },
  {
   "cell_type": "code",
   "execution_count": null,
   "id": "6c1cd0c9-754f-4dcd-b48b-a24e77d38ca9",
   "metadata": {},
   "outputs": [],
   "source": []
  },
  {
   "cell_type": "code",
   "execution_count": null,
   "id": "dc2ddfc8-ef00-4176-9b85-98c093e3077d",
   "metadata": {},
   "outputs": [],
   "source": []
  },
  {
   "cell_type": "code",
   "execution_count": null,
   "id": "2b8f4ace-88f0-4fde-8ec8-f38b6e0e0bde",
   "metadata": {},
   "outputs": [],
   "source": []
  },
  {
   "cell_type": "markdown",
   "id": "cfe1759a-8505-4707-8680-3d2de6039edd",
   "metadata": {
    "tags": []
   },
   "source": [
    "<a id='section1'></a>\n",
    "## 1. Working with dates"
   ]
  },
  {
   "cell_type": "markdown",
   "id": "01252a9c-b963-4867-8ff1-e53e54295106",
   "metadata": {},
   "source": [
    "We have a cell that holds the dates:"
   ]
  },
  {
   "cell_type": "code",
   "execution_count": null,
   "id": "c2805014-e0f5-42d3-b2e1-5152f9d74712",
   "metadata": {},
   "outputs": [],
   "source": [
    "strike_df[['INCIDENT_DATE']].tail()"
   ]
  },
  {
   "cell_type": "markdown",
   "id": "6adc76dc-3b67-4d82-9bdd-6dc4dbb53ae1",
   "metadata": {},
   "source": [
    "But it's currently of type object:"
   ]
  },
  {
   "cell_type": "code",
   "execution_count": null,
   "id": "310be10a-65e7-4ba4-9526-96bb7c7977c1",
   "metadata": {},
   "outputs": [],
   "source": [
    "strike_df[['INCIDENT_DATE']].dtypes"
   ]
  },
  {
   "cell_type": "markdown",
   "id": "959a904c-c687-4488-9024-e4f654214d9f",
   "metadata": {},
   "source": [
    "We will change 'INCIDENT_DATE' into a `datetime` object "
   ]
  },
  {
   "cell_type": "code",
   "execution_count": null,
   "id": "7762add1-9969-4575-beca-abb1f76ad477",
   "metadata": {},
   "outputs": [],
   "source": [
    "strike_df['date'] = pd.to_datetime(strike_df['INCIDENT_DATE'],format='%d/%m/%Y')"
   ]
  },
  {
   "cell_type": "markdown",
   "id": "3b0f40b5-ae1e-463b-8c7d-b353c6bddc91",
   "metadata": {},
   "source": [
    "Did it work?"
   ]
  },
  {
   "cell_type": "code",
   "execution_count": null,
   "id": "05de67cf-a5bb-4e09-adce-a85066474ca9",
   "metadata": {},
   "outputs": [],
   "source": [
    "strike_df[['date']].dtypes"
   ]
  },
  {
   "cell_type": "code",
   "execution_count": null,
   "id": "0d55439e-7857-48e4-b945-cf86e0dc79a4",
   "metadata": {},
   "outputs": [],
   "source": [
    "strike_df[['date','INCIDENT_DATE']]"
   ]
  },
  {
   "cell_type": "markdown",
   "id": "77670848-e9f9-4b47-b84e-1ca31def1619",
   "metadata": {},
   "source": [
    "Extract the month:"
   ]
  },
  {
   "cell_type": "code",
   "execution_count": null,
   "id": "a36cad25-c106-4bd0-be61-0b0e1f262c6f",
   "metadata": {},
   "outputs": [],
   "source": [
    "strike_df['month'] = pd.DatetimeIndex(strike_df['date']).month"
   ]
  },
  {
   "cell_type": "code",
   "execution_count": null,
   "id": "4152d5b8-1773-4a4c-a188-320ca082a7cb",
   "metadata": {},
   "outputs": [],
   "source": [
    "strike_df.loc[1000:1010,['date','month','struck_parts','SPECIES']]"
   ]
  },
  {
   "cell_type": "markdown",
   "id": "27ee2a6d-1113-412b-817f-ee67881bbf1a",
   "metadata": {},
   "source": [
    "You can use any combination [from here](https://docs.python.org/3/library/datetime.html#strftime-and-strptime-behavior)\n",
    "\n",
    "Another example:"
   ]
  },
  {
   "cell_type": "code",
   "execution_count": null,
   "id": "ebfe30e5-c9a6-4649-9526-ea3832962255",
   "metadata": {},
   "outputs": [],
   "source": [
    "strike_df['year-month'] = pd.DatetimeIndex(strike_df['date']).strftime('%Y-%m')\n",
    "strike_df[[\"year-month\",'date']].iloc[10:12]"
   ]
  },
  {
   "cell_type": "markdown",
   "id": "946999c1-8d95-4f5e-837e-bc04c1c1250e",
   "metadata": {},
   "source": [
    "### <span style=\"color:blue\"> Exercise:</span>\n",
    "> Extract the `year` and add it as a new column called `year` in `strike_df`\n",
    ">\n",
    "> Extract the name of the day and add it as a new column called `weekday` in `strike_df`\n",
    ">\n",
    "> Run the sanity check: `strike_df[[\"date\",\"year\",\"weekday\"]]` "
   ]
  },
  {
   "cell_type": "code",
   "execution_count": null,
   "id": "853488d5-b3d9-4e4f-b6b5-8f064ccbde9a",
   "metadata": {},
   "outputs": [],
   "source": []
  },
  {
   "cell_type": "code",
   "execution_count": null,
   "id": "392b57c1-5a61-42d4-b18a-dcfca8815f29",
   "metadata": {},
   "outputs": [],
   "source": []
  },
  {
   "cell_type": "code",
   "execution_count": null,
   "id": "8e1a9f53-a83a-4057-8914-b8faab0b1929",
   "metadata": {},
   "outputs": [],
   "source": [
    "# sanity check\n",
    "#strike_df[[\"date\",\"year\",\"weekday\"]]"
   ]
  },
  {
   "cell_type": "markdown",
   "id": "5a6cee48-44fa-40a5-ae7e-10adef4026ee",
   "metadata": {
    "tags": []
   },
   "source": [
    "<a id='section2'></a>\n",
    "## 2. Simple groupby"
   ]
  },
  {
   "cell_type": "markdown",
   "id": "f4543035-3b45-4139-931a-1df429e3351e",
   "metadata": {},
   "source": [
    "[from pandas user guide:](https://pandas.pydata.org/docs/user_guide/groupby.html)\\\n",
    "By “group by” we are referring to a process involving one or more of the following steps:\n",
    "\n",
    "* Splitting the data into groups based on some criteria.\n",
    "\n",
    "* Applying a function to each group independently.\n",
    "\n",
    "* Combining the results into a data structure.\n",
    "\n"
   ]
  },
  {
   "cell_type": "code",
   "execution_count": null,
   "id": "f070909d-313b-42d1-9aa1-7933d2f48e6e",
   "metadata": {},
   "outputs": [],
   "source": [
    "grouped = strike_df.groupby('year')\n",
    "grouped"
   ]
  },
  {
   "cell_type": "markdown",
   "id": "20093527-e2fb-4a33-a02b-11c035fc4ee0",
   "metadata": {},
   "source": [
    "The above split the data into groups\\\n",
    "Nothing happens here, since we didn't indicate what to do with each group\\\n",
    "But: no error. The split is valid :-)"
   ]
  },
  {
   "cell_type": "markdown",
   "id": "fc440d3b-b3ba-4382-880d-91a188ff2f75",
   "metadata": {},
   "source": [
    "Now lets perform a split and then an apply of an aggregation function"
   ]
  },
  {
   "cell_type": "markdown",
   "id": "48b82973-18af-4902-a333-16315be3de61",
   "metadata": {
    "tags": []
   },
   "source": [
    "Count the number of non-missing (non-NaN) values in the 'WARNED' column each year:"
   ]
  },
  {
   "cell_type": "code",
   "execution_count": null,
   "id": "13ef8308-d29c-429b-a8ab-13b6f91f6d29",
   "metadata": {},
   "outputs": [],
   "source": [
    "y_df = strike_df.groupby('year')[['WARNED']].count()"
   ]
  },
  {
   "cell_type": "code",
   "execution_count": null,
   "id": "32f16a60-407b-4c28-a425-8847e9071248",
   "metadata": {},
   "outputs": [],
   "source": [
    "#y_df[[\"year\"]]"
   ]
  },
  {
   "cell_type": "markdown",
   "id": "822b091f-452c-4acd-9029-ac442288d292",
   "metadata": {},
   "source": [
    "#### 📝 This format means `year` is now the index  \n",
    "This means `strike_df[[\"year\"]]` won't work anymore"
   ]
  },
  {
   "cell_type": "markdown",
   "id": "d669be06-b3e4-4ea6-9550-1a0ccd34b380",
   "metadata": {},
   "source": [
    "##### If you plan to continue using this data and need the index as an attribute:\n",
    "\n",
    "##### add `reset_index()` and then assign"
   ]
  },
  {
   "cell_type": "code",
   "execution_count": null,
   "id": "0a611934-5957-4d49-a431-f0408e1e38cc",
   "metadata": {},
   "outputs": [],
   "source": [
    "y_df = y_df.reset_index()\n",
    "y_df"
   ]
  },
  {
   "cell_type": "markdown",
   "id": "6ca1b340-a3fa-4633-a549-12a05467203a",
   "metadata": {},
   "source": [
    "sum some data:"
   ]
  },
  {
   "cell_type": "code",
   "execution_count": null,
   "id": "5ddc0407-24af-4f18-8f4b-b3892b16540e",
   "metadata": {},
   "outputs": [],
   "source": [
    "strike_df[\"people_impact\"] = strike_df[['NR_INJURIES', 'NR_FATALITIES']].sum(axis=1)"
   ]
  },
  {
   "cell_type": "markdown",
   "id": "849fbca4-3626-4dbc-bab3-c2fd84c2f5dc",
   "metadata": {},
   "source": [
    "#### Understanding `axis=0` and `axis=1`\n",
    "\n",
    "- `axis=0` → sum **down** (sum over rows — this is the default).\n",
    "- `axis=1` → sum **across** (sum values **within the same row**, across different columns)."
   ]
  },
  {
   "cell_type": "markdown",
   "id": "f134a169-3025-45d9-8cf0-978967cca26e",
   "metadata": {
    "tags": []
   },
   "source": [
    "### <span style=\"color:blue\"> Exercise:</span>\n",
    "> What is the total number of people impacted (the `people_impact`) in each month?\n",
    ">\n",
    "> What is the mean (average) of people impacted (the `people_impact`) each year?\n"
   ]
  },
  {
   "cell_type": "code",
   "execution_count": null,
   "id": "295f93b5-5d41-4738-a11a-3a1a2ac75ad3",
   "metadata": {},
   "outputs": [],
   "source": []
  },
  {
   "cell_type": "code",
   "execution_count": null,
   "id": "c5cf76bd-c6f4-43ed-98a8-71ccc307b682",
   "metadata": {},
   "outputs": [],
   "source": []
  },
  {
   "cell_type": "markdown",
   "id": "ba49a541-0bb1-4987-b34d-fd97df8a7721",
   "metadata": {},
   "source": [
    "##### Now let's see these on a graph.\n",
    "**📝 Note: You DO NOT need to groupby the data yourself**"
   ]
  },
  {
   "cell_type": "code",
   "execution_count": null,
   "id": "d79e225e-e1d8-4d48-b12b-a08711e1b3bb",
   "metadata": {},
   "outputs": [],
   "source": [
    "plt.figure(figsize=(6,3))\n",
    "strike_df['year'] = pd.DatetimeIndex(strike_df['date']).year\n",
    "sns.barplot(data=strike_df, y ='people_impact', x = 'year',errorbar=None)"
   ]
  },
  {
   "cell_type": "code",
   "execution_count": null,
   "id": "2771073f-be0c-4a8f-b045-98a5f2eb7ce8",
   "metadata": {},
   "outputs": [],
   "source": [
    "plt.figure(figsize=(6,3))\n",
    "sns.barplot(data=strike_df, y ='people_impact', x = 'month',estimator = sum,  errorbar=None)"
   ]
  },
  {
   "cell_type": "markdown",
   "id": "6e961e0b-de6e-4e77-8a67-f50c10322b3a",
   "metadata": {},
   "source": [
    "<a id='section3'></a>\n",
    "## 3. Sorting and filtering or: when we MUST use `groupby`"
   ]
  },
  {
   "cell_type": "markdown",
   "id": "04efc31a-818b-472c-aeb6-866186f63c9d",
   "metadata": {},
   "source": [
    "We created a barplot showing how many people where impacted:  \n",
    "(a) each year  \n",
    "(b) each month  \n",
    "now we want:  \n",
    "(c) by each bird"
   ]
  },
  {
   "cell_type": "markdown",
   "id": "a4e8da56-ee21-4194-a5a3-a6fd897db3d5",
   "metadata": {},
   "source": [
    "<div>\n",
    "<img src=\"https://github.com/nlihin/EDA-course/blob/main/images/people_impact_summary.png?raw=true\" >\n",
    "</div>"
   ]
  },
  {
   "cell_type": "markdown",
   "id": "a56d3357-5617-44c8-b0fd-9134cc028a1e",
   "metadata": {},
   "source": [
    "### <span style=\"color:blue\"> (Thought) Exercise:</span>\n",
    "> How can you do that?\n",
    ">\n",
    "\n"
   ]
  },
  {
   "cell_type": "code",
   "execution_count": null,
   "id": "6a8a9209-954e-4244-a24a-5b3e41441603",
   "metadata": {},
   "outputs": [],
   "source": []
  },
  {
   "cell_type": "markdown",
   "id": "be3258ac-a470-47ca-8199-72cc52d2c959",
   "metadata": {},
   "source": [
    "Let's groupby bird `SPECIES`:"
   ]
  },
  {
   "cell_type": "code",
   "execution_count": null,
   "id": "2588eaa8-f890-4715-b93b-2b307bfdd150",
   "metadata": {},
   "outputs": [],
   "source": [
    "strike_df.groupby(['SPECIES'])[['people_impact']].sum().sort_values(by=\"people_impact\", ascending = False)\\\n",
    "                                                                                             .reset_index()"
   ]
  },
  {
   "cell_type": "markdown",
   "id": "33a6065b-8f2c-461a-ae93-4c3eb667b2e2",
   "metadata": {},
   "source": [
    "Most birds don't impact people. Filter out those who don't using `Filter`\\\n",
    "& then groupby again. You need to groupby twice:\n",
    "* for the filter\n",
    "* for the result after the filter  \n",
    "\n",
    "Give this new slice of the dataframe a name: `bird_df`"
   ]
  },
  {
   "cell_type": "code",
   "execution_count": null,
   "id": "b73a8738-5161-4f98-bce4-7ae916dab230",
   "metadata": {},
   "outputs": [],
   "source": [
    "bird_df = strike_df.groupby('SPECIES').filter(lambda x: x['people_impact'].sum() > 0) \\\n",
    "                            .groupby('SPECIES')[['people_impact']].sum() \\\n",
    "                            .sort_values(by=\"people_impact\", ascending = False ) \\\n",
    "                            .reset_index()                            \n",
    "bird_df"
   ]
  },
  {
   "cell_type": "markdown",
   "id": "3df31be2-eb8a-449a-8c23-48571c1d6100",
   "metadata": {},
   "source": [
    "##### Now we can create a bar plot\n",
    "##### 📝 **Note: We had to perform a `groupby` and apply some filtering.**\n",
    "This is because the original data does not contain a direct column showing the number of people injured in each accident involving each bird species.\n"
   ]
  },
  {
   "cell_type": "code",
   "execution_count": null,
   "id": "ccc9d9a1-c51c-4828-900e-a038345a882e",
   "metadata": {},
   "outputs": [],
   "source": [
    "plt.figure(figsize=(5,3))\n",
    "sns.barplot(data = bird_df.head(6), x = \"SPECIES\", y = \"people_impact\")\n",
    "plt.xticks(rotation=45, ha='right')\n",
    "plt.show()"
   ]
  },
  {
   "cell_type": "markdown",
   "id": "7b4352fc-147a-4932-851c-ad3db0b50d4d",
   "metadata": {},
   "source": [
    "<a id='section4'></a>\n",
    "## 4. Groupby on two or more attributes"
   ]
  },
  {
   "cell_type": "markdown",
   "id": "9c145593-7302-446c-82f5-0a8a5c462798",
   "metadata": {},
   "source": [
    "Now, groupby `month` and `year`"
   ]
  },
  {
   "cell_type": "code",
   "execution_count": null,
   "id": "1e16ae4f-4b18-4e8e-8216-c87226d1850f",
   "metadata": {},
   "outputs": [],
   "source": [
    "strike_grpd = strike_df.groupby(['month','year'])[['people_impact', 'struck_parts']].sum()\\\n",
    ".reset_index()\n",
    "strike_grpd"
   ]
  },
  {
   "cell_type": "markdown",
   "id": "7cc31d92-8960-43e6-b7bf-9cb962ebc63e",
   "metadata": {},
   "source": [
    "### <span style=\"color:blue\"> Exercise:</span>\n",
    "> \n",
    "> 1. what will happen if we switch the order of the indexes: `['month', 'year']`?\n",
    ">\n",
    "> 2. Create a barplot for x=\"year\", y=\"people_impact\", alongside the lineplot (see the help below)"
   ]
  },
  {
   "cell_type": "code",
   "execution_count": null,
   "id": "51810d9a-33ed-4be4-8fda-35db7644616a",
   "metadata": {},
   "outputs": [],
   "source": []
  },
  {
   "cell_type": "markdown",
   "id": "f30d2a1a-fa10-47b2-810d-31fde661fa86",
   "metadata": {},
   "source": [
    "Some help with 2:"
   ]
  },
  {
   "cell_type": "code",
   "execution_count": null,
   "id": "ff50acee-e330-4c18-918f-7a3e770a3667",
   "metadata": {},
   "outputs": [],
   "source": [
    "fig, axes = plt.subplots(figsize=(12, 4), ncols=2)\n",
    "#WRITE YOUR CODE HERE\n",
    "sns.lineplot(x=\"year\", y=\"struck_parts\",  data=strike_df,errorbar=None, estimator = sum, ax=axes[1])\n",
    "plt.show()"
   ]
  },
  {
   "cell_type": "markdown",
   "id": "d05bbb89-3e06-440d-ba6c-319f7cf2b909",
   "metadata": {
    "tags": []
   },
   "source": [
    "<a id='section5'></a>\n",
    "## 5. Multiple aggregations"
   ]
  },
  {
   "cell_type": "code",
   "execution_count": null,
   "id": "86f813c0-4cd5-40a5-a3c1-439d21e07be0",
   "metadata": {},
   "outputs": [],
   "source": [
    "strike_df['TIME_OF_DAY'].unique()"
   ]
  },
  {
   "cell_type": "code",
   "execution_count": null,
   "id": "e114b879-9847-43c8-9b34-6722970d64e0",
   "metadata": {
    "tags": []
   },
   "outputs": [],
   "source": [
    "strike_group = strike_df.groupby('TIME_OF_DAY').\\\n",
    "agg({'people_impact': ['mean', 'median', 'max','count','sum'], \n",
    "     'TIME_OF_DAY':['count'],\n",
    "     'SKY':['count'],\n",
    "     'date':['first', 'last']})\n",
    "\n",
    "strike_group = strike_group.reset_index()\n",
    "strike_group"
   ]
  },
  {
   "cell_type": "markdown",
   "id": "9995ac92-60d0-4889-b1d9-8b01fa2851a4",
   "metadata": {
    "tags": []
   },
   "source": [
    "<a id='section6'></a>\n",
    "## 6. Tidy your output"
   ]
  },
  {
   "cell_type": "markdown",
   "id": "1544d515-f38c-4043-80b7-4224fd1907f4",
   "metadata": {},
   "source": [
    "If you want to access the data and not deal with a multi-index, flatten the data by dropping a level and rename the columns:"
   ]
  },
  {
   "cell_type": "code",
   "execution_count": null,
   "id": "ace21255-8d72-4e3f-87d9-b3cad2efeeea",
   "metadata": {},
   "outputs": [],
   "source": [
    "strike_group.columns"
   ]
  },
  {
   "cell_type": "markdown",
   "id": "6cba7f4c-caf4-46a6-88c0-751286bc2a9c",
   "metadata": {},
   "source": [
    "Each column currently has a multi-index, that is - several levels (two levels in our case).\n",
    "We use [droplevel](https://pandas.pydata.org/docs/reference/api/pandas.DataFrame.droplevel.html) to remove one of the indexes.\\\n",
    "`droplevel(level, axis=0)`\\\n",
    "`level` - the position of the index to drop. The topmost or leftmost index is 0.\\\n",
    "`axis` - 0 removes a level in the columns, 1 removes a level in the rows.\\\n",
    "In our case, we have two rows of index, so `axis = 1`."
   ]
  },
  {
   "cell_type": "code",
   "execution_count": null,
   "id": "20064897-7d8f-4867-922d-6b08ef4fe276",
   "metadata": {},
   "outputs": [],
   "source": [
    "strike_group = strike_group.droplevel(0, axis=1) \n",
    "strike_group"
   ]
  },
  {
   "cell_type": "markdown",
   "id": "cee18226-7b3f-4f96-ba1e-4e22ae3ec123",
   "metadata": {},
   "source": [
    "Rename the columns"
   ]
  },
  {
   "cell_type": "code",
   "execution_count": null,
   "id": "2ea3760e-10da-4ac2-b9d6-c20906bad0f7",
   "metadata": {},
   "outputs": [],
   "source": [
    "strike_group.columns = ['time of day','impact_mean','impact_median','impact_max','impact_count',\n",
    "                        'impact_sum','time_of_day_count','sky_count','date_first','date_last']\n",
    "strike_group"
   ]
  },
  {
   "cell_type": "markdown",
   "id": "d2ca825d-9dbd-4ea5-a0ca-5f8ef59f6d96",
   "metadata": {},
   "source": [
    "# Save as a pickle"
   ]
  },
  {
   "cell_type": "code",
   "execution_count": null,
   "id": "16c30c8c-dac5-446b-8be5-f307a86b921c",
   "metadata": {},
   "outputs": [],
   "source": [
    "strike_df.to_pickle(\"pickled_strike\")"
   ]
  },
  {
   "cell_type": "markdown",
   "id": "d0388131-bba9-4d50-8504-673d1217a353",
   "metadata": {},
   "source": [
    "Read the file:"
   ]
  },
  {
   "cell_type": "code",
   "execution_count": null,
   "id": "12009b16-6136-4019-9c3b-0949d4fd57a4",
   "metadata": {},
   "outputs": [],
   "source": [
    "strike_df = pd.read_pickle(\"pickled_strike\")"
   ]
  },
  {
   "cell_type": "markdown",
   "id": "62ec599c-e6a8-4894-97b2-419f7fb3073a",
   "metadata": {},
   "source": [
    "Pickling the file allows us to save it with all of the changes we made in python. It is also supposed to be faster to read&write"
   ]
  },
  {
   "cell_type": "markdown",
   "id": "d9c950bc-2a8b-41f4-aeb7-b7467b1c87db",
   "metadata": {},
   "source": [
    "# Summary:"
   ]
  },
  {
   "cell_type": "markdown",
   "id": "d58b0276-e3a3-4605-900f-5959d1d7c432",
   "metadata": {},
   "source": [
    "\n",
    "---\n",
    "\n",
    ">* `concat()` - combine dataframes with overlapping columns [documentation](https://pandas.pydata.org/docs/reference/api/pandas.concat.html)\n",
    ">\n",
    ">* `dtypes` - returns the data type of a series (a column in a dataframe)\n",
    ">\n",
    ">* `pd.to_datetime(df['date'])` - changes the attribute type to datetime\n",
    ">\n",
    ">* `pd.DatetimeIndex(df['date']).month` - extracts the month from the datatime attribute\n",
    ">\n",
    ">*  `pd.DatetimeIndex(strike_df['date']).strftime('%y-%m-%w')` - create a string representing the time. use %y, %a, %A etc..  \n",
    ">\n",
    ">* `groupby()` - group according to the columns specified\n",
    ">\n",
    ">* `reset_index()` reset index to a numerical index beginning at 0\n",
    ">\n",
    ">* `apply` - applies a function on each row (axis =0) in the dataframe. Change to (axis = 1) to apply the function on each column [documentation](https://pandas.pydata.org/pandas-docs/stable/reference/api/pandas.DataFrame.apply.html#pandas.DataFrame.apply)\n",
    ">\n",
    ">* `lambda` - small anonymous function\n",
    ">\n",
    ">* `agg` - apply multiple functions at once, one for each specified column [documentation](https://pandas.pydata.org/pandas-docs/stable/reference/api/pandas.DataFrame.agg.html)\n",
    ">\n",
    ">* `droplevel(0, axis = 1)` - drops the highest (first) level in the column index of a multi-index dataframe\n",
    ">\n",
    "---"
   ]
  },
  {
   "cell_type": "markdown",
   "id": "14eedf6a-150f-4c32-93a6-5079812cd18b",
   "metadata": {},
   "source": [
    "#### This was a lot of information.\n",
    "\n",
    "#### Keep your balance. Practice. You will make it.\n",
    "\n",
    "<div>\n",
    "<img src=\"https://raw.githubusercontent.com/nlihin/data-analytics/main/images/balance.jpg\" width=\"500\"/>\n",
    "</div>\n",
    "\n",
    "Photo by <a href=\"https://unsplash.com/@martinsanchez?utm_source=unsplash&utm_medium=referral&utm_content=creditCopyText\">Martin Sanchez</a> on <a href=\"https://unsplash.com/s/photos/perfect-balance?utm_source=unsplash&utm_medium=referral&utm_content=creditCopyText\">Unsplash</a>\n",
    "  "
   ]
  }
 ],
 "metadata": {
  "kernelspec": {
   "display_name": "Python 3 (ipykernel)",
   "language": "python",
   "name": "python3"
  },
  "language_info": {
   "codemirror_mode": {
    "name": "ipython",
    "version": 3
   },
   "file_extension": ".py",
   "mimetype": "text/x-python",
   "name": "python",
   "nbconvert_exporter": "python",
   "pygments_lexer": "ipython3",
   "version": "3.11.0"
  }
 },
 "nbformat": 4,
 "nbformat_minor": 5
}
