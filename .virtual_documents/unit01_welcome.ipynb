



































print ('hello world')





a = 2 + 2 # The result of this line will not be displayed
b = 3 + 3 # The result of this line will be displayed, because it is the last line of the cell
a
b





class_name = "Intro to Data Analysis"


message = class_name + " is great!!!!!!"


message











student1 = [100, 88, 97]
student2 = [100, 88, 60]


type(student1)


student1 == student2


student1 + student2


import numpy as np


student1_np = np.array([100, 88, 97])
student2_np = np.array([100, 88, 60])


type(student1_np)


student1_np == student2_np


(student1_np + student2_np)/2





x = np.array([1,2,"cat"])
y = np.array([1,3,"cat"])


x == y








import pandas as pd








file_name = "https://raw.githubusercontent.com/nlihin/data-analytics/main/datasets/avocado.csv"
df = pd.read_csv(file_name)
df





df["region"]


type(df["region"])


df["Small Bags"]


print(df["region"][2])
print(df["Small Bags"][2])


df["Small Bags"]+ df["Large Bags"] + df["XLarge Bags"] == df["Total Bags"]


(df["Small Bags"]+ df["Large Bags"] + df["XLarge Bags"] == df["Total Bags"]).sum()



























a = [2, 2, 4]
b = [2, 3, 2]

c = pd.Series([2, 2, 4])







import pandas as pd
import numpy as np
from faker import Faker

# Initialize Faker and set seed for reproducibility
fake = Faker()
Faker.seed(0)
np.random.seed(0)

# Generate data for the DataFrame
num_rows = 100

# Generate student names
student_names = [fake.first_name() for _ in range(num_rows)]

# Generate unique 9-digit student IDs
student_ids = [fake.unique.random_number(digits=9) for _ in range(num_rows)]

# Generate cities in Israel
cities_in_israel = ['Jerusalem', 'Tel Aviv', 'Haifa', 'Rishon Lezion', 'Petah Tikva', 'Ashdod', 'Netanya', 'Holon', 'Ariel', 'Rosh Haain']
student_cities = [np.random.choice(cities_in_israel) for _ in range(num_rows)]

# Generate student date of beginning studies (either 2023 or 2024)
start_years = np.random.choice([2023, 2024], size=num_rows)

# Generate student birth dates (between 2000 and 2024)
birth_years = np.random.randint(2000, 2024, size=num_rows)
student_birth_dates = [fake.date_of_birth(minimum_age=0, maximum_age=24) for _ in birth_years]

# Generate student average grades (between 60-100)
student_avg_grades = np.random.randint(60, 101, size=num_rows)

# Generate student scores (5 columns, each between 1-5)
# Two columns will have the exact same values
student_scores_1 = np.random.randint(1, 6, size=num_rows)
student_scores_2 = np.random.randint(1, 6, size=num_rows)
student_scores_3 = student_scores_1  # Same as student_scores_1
student_scores_4 = np.random.randint(1, 6, size=num_rows)
student_scores_5 = np.random.randint(1, 6, size=num_rows)

# Create DataFrame
df = pd.DataFrame({
    'Student Name': student_names,
    'Student ID': student_ids,
    'City': student_cities,
    'Start Year': start_years,
    'Birth Date': student_birth_dates,
    'Average Grade': student_avg_grades,
    'Score 1': student_scores_1,
    'Score 2': student_scores_2,
    'Score 3': student_scores_3,
    'Score 4': student_scores_4,
    'Score 5': student_scores_5
})

df.head()



pip install faker



