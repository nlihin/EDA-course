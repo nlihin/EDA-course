{
 "cells": [
  {
   "cell_type": "code",
   "execution_count": null,
   "metadata": {},
   "outputs": [],
   "source": [
    "import pandas as pd\n",
    "import numpy as np\n",
    "import matplotlib.pyplot as plt\n",
    "import seaborn as sns"
   ]
  },
  {
   "cell_type": "markdown",
   "metadata": {},
   "source": [
    "# Unit 6 - EDA example on marketing analytics"
   ]
  },
  {
   "cell_type": "markdown",
   "metadata": {},
   "source": [
    "<div>\n",
    "<img src=\"https://github.com/nlihin/EDA-course/blob/main/images/CRISP-DM.png?raw=true\" width=\"600\"/>\n",
    "</div>"
   ]
  },
  {
   "cell_type": "markdown",
   "metadata": {},
   "source": [
    "In this unit we will see and EDA case end-to-end:\n",
    "- Fix problems\n",
    "- 1. Data Understanding\n",
    "  - 1.1 Numeric Data\n",
    "  - 1.2 Binary Data\n",
    "  - 1.3 Categorical Data\n",
    "- 2. Data Preperation\n",
    "  - 2.1 Missing Values\n",
    "  - 2.2 Outliers\n",
    "  - 2.3 Tranformations\n",
    "- 3. Correlations & Observations\n"
   ]
  },
  {
   "cell_type": "markdown",
   "metadata": {
    "jp-MarkdownHeadingCollapsed": true
   },
   "source": [
    "<div>\n",
    "<img src=\"https://raw.githubusercontent.com/nlihin/data-analytics/main/images/marketing.PNG\" width=\"400\"/>\n",
    "</div>"
   ]
  },
  {
   "cell_type": "markdown",
   "metadata": {
    "tags": []
   },
   "source": [
    "#### Information on the data\n",
    "We'll work with a small marketing analytics dataset, taken from [iFood](https://www.crunchbase.com/organization/ifood)\n"
   ]
  },
  {
   "cell_type": "code",
   "execution_count": null,
   "metadata": {},
   "outputs": [],
   "source": [
    "url = 'https://raw.githubusercontent.com/nlihin/data-analytics/main/datasets/marketing_data.csv'\n",
    "mrkt_df = pd.read_csv(url)\n",
    "mrkt_df.head()"
   ]
  },
  {
   "cell_type": "code",
   "execution_count": null,
   "metadata": {},
   "outputs": [],
   "source": [
    "mrkt_df.shape"
   ]
  },
  {
   "cell_type": "markdown",
   "metadata": {},
   "source": [
    "Data description is [here](https://www.kaggle.com/jackdaoud/marketing-data)"
   ]
  },
  {
   "cell_type": "markdown",
   "metadata": {
    "tags": []
   },
   "source": [
    "##  Before we begin: fix problems"
   ]
  },
  {
   "cell_type": "markdown",
   "metadata": {},
   "source": [
    "You may already notice something is strange with the Income column, is it aligned to the right??  \n",
    "Let's look at the types of data"
   ]
  },
  {
   "cell_type": "code",
   "execution_count": null,
   "metadata": {},
   "outputs": [],
   "source": [
    "mrkt_df.dtypes"
   ]
  },
  {
   "cell_type": "markdown",
   "metadata": {},
   "source": [
    "So here is the problem: the 'Income' column contains extra whitespace, clean it:"
   ]
  },
  {
   "cell_type": "code",
   "execution_count": null,
   "metadata": {},
   "outputs": [],
   "source": [
    "mrkt_df.columns = mrkt_df.columns.str.replace(' ', '')"
   ]
  },
  {
   "cell_type": "markdown",
   "metadata": {},
   "source": [
    "And: the 'Income' column should be turned to numeric (float is better)\\\n",
    "regex: regular expression. We want the `$` sign treated as a string so regex should be set to False"
   ]
  },
  {
   "cell_type": "code",
   "execution_count": null,
   "metadata": {},
   "outputs": [],
   "source": [
    "mrkt_df.Income"
   ]
  },
  {
   "cell_type": "markdown",
   "metadata": {},
   "source": [
    "turn `Income` to a number "
   ]
  },
  {
   "cell_type": "code",
   "execution_count": null,
   "metadata": {},
   "outputs": [],
   "source": [
    "mrkt_df['Income'] = mrkt_df['Income'].str.replace('$', '', regex = False)\n",
    "mrkt_df['Income'] = mrkt_df['Income'].str.replace(',', '')\n",
    "mrkt_df['Income'] = mrkt_df['Income'].astype(float)"
   ]
  },
  {
   "cell_type": "markdown",
   "metadata": {},
   "source": [
    "---"
   ]
  },
  {
   "cell_type": "markdown",
   "metadata": {},
   "source": [
    "Sanity check:"
   ]
  },
  {
   "cell_type": "code",
   "execution_count": null,
   "metadata": {},
   "outputs": [],
   "source": [
    "mrkt_df.Income.sum()"
   ]
  },
  {
   "cell_type": "markdown",
   "metadata": {},
   "source": [
    "## 1. Data Understanding \n",
    "\n",
    "We have: \n",
    "> 🔢 Numeric Variables  \n",
    "> 🔘 Binary Variables (0/1)  \n",
    "> 🏷️ Categorical Variables  \n",
    "\n",
    "We begin with the numeric columns.  \n",
    "\n",
    "### 🔢 Numeric Variables\n",
    "To compare their distributions side by side, we use `pd.melt()` to reshape the data and then plot them `boxplot`.\n",
    "With `FacetGrid`, we can display multiple boxplots side by side."
   ]
  },
  {
   "cell_type": "markdown",
   "metadata": {},
   "source": [
    "Select only numeric columns:"
   ]
  },
  {
   "cell_type": "code",
   "execution_count": null,
   "metadata": {},
   "outputs": [],
   "source": [
    "features = mrkt_df.select_dtypes(include='number').columns\n",
    "features"
   ]
  },
  {
   "cell_type": "markdown",
   "metadata": {},
   "source": [
    "That's will be a lot of boxplots!!  \n",
    "So lets **Melt** the data into **long** format, so that we can explore all of it at once\n"
   ]
  },
  {
   "cell_type": "code",
   "execution_count": null,
   "metadata": {},
   "outputs": [],
   "source": [
    "melted_mrkt_df = pd.melt(mrkt_df, id_vars='ID', value_vars=features.drop('ID'))\n",
    "melted_mrkt_df"
   ]
  },
  {
   "cell_type": "markdown",
   "metadata": {},
   "source": [
    "Now use `FacetGrid`  \n",
    "We are interested in creating a different boxplot for each `variable`, which is why `col=\"variable\"`"
   ]
  },
  {
   "cell_type": "code",
   "execution_count": null,
   "metadata": {},
   "outputs": [],
   "source": [
    "g = sns.FacetGrid(data = melted_mrkt_df, col=\"variable\",  col_wrap=4, height=2.5)\n",
    "g.map_dataframe(sns.boxplot, y = 'value')\n",
    "plt.show()"
   ]
  },
  {
   "cell_type": "markdown",
   "metadata": {},
   "source": [
    "---"
   ]
  },
  {
   "cell_type": "markdown",
   "metadata": {
    "tags": []
   },
   "source": [
    "#### <span style=\"color:blue\"> Exercise:</span>\n",
    ">\n",
    "> It's hard to read this, because axis y is shared.  What can we do?? Hint: ask advice from Google or your favorite LLM\n",
    ">\n"
   ]
  },
  {
   "cell_type": "code",
   "execution_count": null,
   "metadata": {},
   "outputs": [],
   "source": []
  },
  {
   "cell_type": "markdown",
   "metadata": {},
   "source": [
    "### 🔘 Binary Variables (0/1)\n",
    "\n",
    "Boxplots are **not useful** for binary variables — they only have two values.  \n",
    "Instead, we use a **histogram (or barplot)** to show how often we see 0 and 1.  \n"
   ]
  },
  {
   "cell_type": "markdown",
   "metadata": {},
   "source": [
    "#### <span style=\"color:blue\"> Exercise:</span>\n",
    ">\n",
    "> Boxplots are not ideal for binary data. Create a FacetGrid of histograms\n",
    ">"
   ]
  },
  {
   "cell_type": "code",
   "execution_count": null,
   "metadata": {},
   "outputs": [],
   "source": []
  },
  {
   "cell_type": "markdown",
   "metadata": {},
   "source": [
    "### 🏷️ Categorical Variables\n",
    "\n",
    "For categorical variables, we use `countplots`  \n",
    "If the categories are not too many, we can also use pie charts \n",
    "\n",
    "<div>\n",
    "<img src=\"https://raw.githubusercontent.com/nlihin/data-analytics/main/images/categories.jpeg\" width=\"400\"/>\n",
    "</div>\n"
   ]
  },
  {
   "cell_type": "code",
   "execution_count": null,
   "metadata": {},
   "outputs": [],
   "source": [
    "non_numeric_columns = mrkt_df.select_dtypes(include='object')\n",
    "non_numeric_columns.info()"
   ]
  },
  {
   "cell_type": "markdown",
   "metadata": {},
   "source": [
    "Three of these features are categorical: `Education`, `Marital_Status`, `Country`\n",
    "\n",
    "### <span style=\"color:blue\"> Exercise:</span>\n",
    "> Visualize these features, using `sns.countplot`\n"
   ]
  },
  {
   "cell_type": "code",
   "execution_count": null,
   "metadata": {},
   "outputs": [],
   "source": [
    "fig, axes = plt.subplots(figsize=(20, 5), ncols=3)\n",
    "\n",
    "#YOUR CODE HERE\n",
    "\n",
    "plt.show()"
   ]
  },
  {
   "cell_type": "markdown",
   "metadata": {},
   "source": [
    "**Note:** You can also use a FacetGrid"
   ]
  },
  {
   "cell_type": "code",
   "execution_count": null,
   "metadata": {},
   "outputs": [],
   "source": [
    "categorical_cols = non_numeric_columns.columns.drop('Dt_Customer')"
   ]
  },
  {
   "cell_type": "code",
   "execution_count": null,
   "metadata": {},
   "outputs": [],
   "source": [
    "melted_cat_df = pd.melt(mrkt_df, id_vars='ID', value_vars=categorical_cols)"
   ]
  },
  {
   "cell_type": "code",
   "execution_count": null,
   "metadata": {},
   "outputs": [],
   "source": [
    "g = sns.FacetGrid(melted_cat_df, col='variable', col_wrap=3, sharex=False, sharey=False)\n",
    "g.map(sns.countplot, 'value', order=None)\n",
    "\n",
    "# Rotate x-axis labels for clarity\n",
    "for ax in g.axes.flat:\n",
    "    ax.tick_params(axis='x', rotation=45)\n",
    "\n",
    "plt.tight_layout()\n",
    "plt.show()"
   ]
  },
  {
   "cell_type": "markdown",
   "metadata": {},
   "source": [
    "---\n",
    "\n",
    "📌 Summary:\n",
    "Use the right plot for the right variable type:\n",
    "- **Numeric** → `boxplot`\n",
    "- **Binary** → `histplot` or `barplot`\n",
    "- **Categorical** → `countplot` or pie chart (if few categories)\n",
    "\n",
    " "
   ]
  },
  {
   "cell_type": "markdown",
   "metadata": {},
   "source": [
    "---"
   ]
  },
  {
   "cell_type": "markdown",
   "metadata": {
    "tags": []
   },
   "source": [
    "<a id='section2'></a>\n",
    "## 2. Data preperation\n"
   ]
  },
  {
   "cell_type": "markdown",
   "metadata": {
    "tags": []
   },
   "source": [
    "### 2.1 Missing values"
   ]
  },
  {
   "cell_type": "code",
   "execution_count": null,
   "metadata": {},
   "outputs": [],
   "source": [
    "mrkt_df.isnull().sum().sort_values(ascending=False)"
   ]
  },
  {
   "cell_type": "markdown",
   "metadata": {},
   "source": [
    "The feature `Income` contains 24 null values."
   ]
  },
  {
   "cell_type": "markdown",
   "metadata": {},
   "source": [
    "Plot this feature to identify best strategy for imputation:"
   ]
  },
  {
   "cell_type": "code",
   "execution_count": null,
   "metadata": {},
   "outputs": [],
   "source": [
    "sns.histplot(mrkt_df, x = 'Income')"
   ]
  },
  {
   "cell_type": "markdown",
   "metadata": {},
   "source": [
    "We see most of the incomes are between 0-10000. We can confirm this with a box plot:"
   ]
  },
  {
   "cell_type": "code",
   "execution_count": null,
   "metadata": {},
   "outputs": [],
   "source": [
    "plt.figure(figsize=(2,4))\n",
    "sns.boxplot(data = mrkt_df, y= 'Income')"
   ]
  },
  {
   "cell_type": "code",
   "execution_count": null,
   "metadata": {},
   "outputs": [],
   "source": [
    "mrkt_df['Income'] = mrkt_df['Income'].fillna(mrkt_df['Income'].median())"
   ]
  },
  {
   "cell_type": "markdown",
   "metadata": {},
   "source": [
    "Use a log scale to display the income, so that the display is centered."
   ]
  },
  {
   "cell_type": "code",
   "execution_count": null,
   "metadata": {},
   "outputs": [],
   "source": [
    "sns.histplot(mrkt_df.Income, log_scale=True)"
   ]
  },
  {
   "cell_type": "markdown",
   "metadata": {},
   "source": [
    "#### Be Careful When Filling Missing Values\n",
    "\n",
    "Filling missing values with the **mean** is easy — but not always right.\n",
    "\n",
    "Sometimes, it hides important patterns in the data.\n",
    "\n",
    "---\n",
    "\n",
    "#### ⚠️ Example: Wait Time and Resolved Tickets\n",
    "\n",
    "We look at two groups:\n",
    "- ✅ Customers whose issue was **resolved** — they had **short wait times**\n",
    "- ❌ Customers whose issue was **not resolved** — many are missing wait time, but those we have are **very long**\n",
    "\n",
    "---\n",
    "Look at the plots below:\n",
    "\n",
    "We compare wait times between customers whose issues were **resolved** (1) and those that were **not resolved** (0), using four versions of the data:\n",
    "\n",
    "1. **Before Imputation** – only complete cases  \n",
    "2. **After Mean Imputation** – fill missing values with the overall average  \n",
    "3. **After Median Imputation** – fill with the median value  \n",
    "4. **After Group Mean Imputation** – fill using the average within each group\n"
   ]
  },
  {
   "cell_type": "markdown",
   "metadata": {},
   "source": [
    "<div>\n",
    "    <center>\n",
    "<img src=\"https://raw.githubusercontent.com/nlihin/data-analytics/main/images/waittime_imputation_comparison.png?raw=true\" />\n",
    "    </center>\n",
    "</div>"
   ]
  },
  {
   "cell_type": "markdown",
   "metadata": {},
   "source": [
    "What do you see?\n",
    "\n",
    "- In the original data, unresolved customers have much higher wait times.\n",
    "- After filling, especially with the global **mean** or **median**, the difference between groups becomes smaller.\n",
    "- **Group-wise imputation** preserves the difference more clearly — but still smooths it.\n",
    "\n",
    "📌 Different imputation choices can **change the story** the data tells.\n",
    "\n",
    "---\n",
    "\n",
    "📌 **Bottom line**: Filling missing values can change your results.  \n",
    "Think before you fill!\n",
    "\n",
    "#### ✅ When is filling missing values helpful?\n",
    "- You want to preserve as much data as possible for modeling.\n",
    "- The missingness is **random** and unrelated to the target.\n",
    "- You use a statistically sound imputation method (e.g., regression or group-based means).\n",
    "\n",
    "#### ⚠️ When can filling be misleading?\n",
    "- The missingness is **not random** — e.g., only customers who were dissatisfied skipped the question.\n",
    "- You fill with a constant value (e.g., the mean), which may **flatten real variation**.\n",
    "- You're analyzing relationships (e.g., group comparisons) that can be **distorted** by naive imputation.\n"
   ]
  },
  {
   "cell_type": "markdown",
   "metadata": {
    "tags": []
   },
   "source": [
    "### 2.2 Outliers"
   ]
  },
  {
   "cell_type": "markdown",
   "metadata": {
    "tags": []
   },
   "source": [
    "Should we remove outliers?\n",
    "\n",
    "✅ **Sometimes yes**:\n",
    "- The value is clearly wrong (e.g., typing error or system bug)\n",
    "- It pulls the mean too far and affects analysis\n",
    "- It hurts visualizations or model accuracy\n",
    "\n",
    "❌ **Sometimes no**:\n",
    "- The value is real (e.g., a very high-earning customer)\n",
    "- It’s important for business decisions (e.g., targeting premium users)\n",
    "- Removing it would hide useful variation\n",
    "\n",
    "#### Treat the outliers\n",
    "> Do something with the birth years  \n",
    "> What about the income?\n"
   ]
  },
  {
   "cell_type": "code",
   "execution_count": null,
   "metadata": {},
   "outputs": [],
   "source": [
    "plt.figure(figsize=(3,3))\n",
    "sns.boxplot( y = 'Year_Birth', data = mrkt_df)"
   ]
  },
  {
   "cell_type": "code",
   "execution_count": null,
   "metadata": {},
   "outputs": [],
   "source": [
    "mrkt_df.Year_Birth.sort_values(ascending=True)"
   ]
  },
  {
   "cell_type": "code",
   "execution_count": null,
   "metadata": {},
   "outputs": [],
   "source": [
    "mrkt_df = mrkt_df[mrkt_df.Year_Birth>1922].copy()"
   ]
  },
  {
   "cell_type": "code",
   "execution_count": null,
   "metadata": {},
   "outputs": [],
   "source": [
    "plt.figure(figsize=(3,3))\n",
    "sns.boxplot( y = 'Year_Birth', data = mrkt_df)"
   ]
  },
  {
   "cell_type": "code",
   "execution_count": null,
   "metadata": {},
   "outputs": [],
   "source": [
    "mrkt_df.info()"
   ]
  },
  {
   "cell_type": "markdown",
   "metadata": {},
   "source": [
    "Change the date column to a date type"
   ]
  },
  {
   "cell_type": "code",
   "execution_count": null,
   "metadata": {},
   "outputs": [],
   "source": [
    "mrkt_df['Dt_Customer'] = pd.to_datetime(mrkt_df['Dt_Customer'])"
   ]
  },
  {
   "cell_type": "code",
   "execution_count": null,
   "metadata": {},
   "outputs": [],
   "source": [
    "mrkt_df.dtypes"
   ]
  },
  {
   "cell_type": "markdown",
   "metadata": {
    "tags": []
   },
   "source": [
    "### 2.3 Data Transformations"
   ]
  },
  {
   "cell_type": "markdown",
   "metadata": {},
   "source": [
    "To find patterns in the data, we need to find correlations in the data  \n",
    "Advanced note: we saw the data doesn't have a normal distribution, so we'll use Kendall instead of Pearson"
   ]
  },
  {
   "cell_type": "code",
   "execution_count": null,
   "metadata": {},
   "outputs": [],
   "source": [
    "corrs = mrkt_df.corr(method = 'kendall', numeric_only=True).round(2)\n",
    "plt.figure(figsize=(15,6))  #figure size\n",
    "sns.heatmap(corrs, cmap='coolwarm', center=0, annot = True)"
   ]
  },
  {
   "cell_type": "markdown",
   "metadata": {},
   "source": [
    "Difficult to look for correlations in this way. So we need to first transform the data, aggregate some of the fields"
   ]
  },
  {
   "cell_type": "markdown",
   "metadata": {},
   "source": [
    "The total number of dependents in the home ('Dependents') can be engineered from the sum of 'Kidhome' and 'Teenhome'"
   ]
  },
  {
   "cell_type": "code",
   "execution_count": null,
   "metadata": {},
   "outputs": [],
   "source": [
    "mrkt_df['Dependents'] = mrkt_df['Kidhome'] + mrkt_df['Teenhome']"
   ]
  },
  {
   "cell_type": "markdown",
   "metadata": {},
   "source": [
    "The year of becoming a customer ('Year_Customer') can be engineered from 'Dt_Customer'"
   ]
  },
  {
   "cell_type": "code",
   "execution_count": null,
   "metadata": {},
   "outputs": [],
   "source": [
    "mrkt_df['Year_Customer'] = pd.DatetimeIndex(mrkt_df['Dt_Customer']).year"
   ]
  },
  {
   "cell_type": "markdown",
   "metadata": {},
   "source": [
    "The total amount spent ('TotalMnt') can be engineered from the sum of all features containing the keyword 'Mnt'"
   ]
  },
  {
   "cell_type": "code",
   "execution_count": null,
   "metadata": {},
   "outputs": [],
   "source": [
    "mrkt_df.columns"
   ]
  },
  {
   "cell_type": "code",
   "execution_count": null,
   "metadata": {},
   "outputs": [],
   "source": [
    "mnt_cols = ['MntWines', 'MntFruits','MntMeatProducts', 'MntFishProducts', 'MntSweetProducts','MntGoldProds']"
   ]
  },
  {
   "cell_type": "markdown",
   "metadata": {},
   "source": [
    "We have used `.sum()` to sum by columns. Now we want to sum rows. So `axis=1`"
   ]
  },
  {
   "cell_type": "code",
   "execution_count": null,
   "metadata": {},
   "outputs": [],
   "source": [
    "mrkt_df['TotalMnt'] = mrkt_df[mnt_cols].sum(axis=1)"
   ]
  },
  {
   "cell_type": "markdown",
   "metadata": {},
   "source": [
    "The total purchases ('TotalPurchases') can be engineered from the sum of all features containing the keyword 'Purchases'"
   ]
  },
  {
   "cell_type": "code",
   "execution_count": null,
   "metadata": {},
   "outputs": [],
   "source": [
    "purchases_cols = ['NumDealsPurchases', 'NumWebPurchases','NumCatalogPurchases', 'NumStorePurchases']\n",
    "mrkt_df['TotalPurchases'] = mrkt_df[purchases_cols].sum(axis=1)"
   ]
  },
  {
   "cell_type": "markdown",
   "metadata": {},
   "source": [
    "The total number of campains accepted ('TotalCampaignsAcc') can be engineered from the sum of all features containing the keywords 'Cmp' and 'Response' (the latest campaign)"
   ]
  },
  {
   "cell_type": "code",
   "execution_count": null,
   "metadata": {},
   "outputs": [],
   "source": [
    "campaigns_cols = ['AcceptedCmp3', 'AcceptedCmp4', 'AcceptedCmp5', 'AcceptedCmp1','AcceptedCmp2'] + ['Response'] # 'Response' is for the latest campaign\n",
    "mrkt_df['TotalCampaignsAcc'] = mrkt_df[campaigns_cols].sum(axis=1)"
   ]
  },
  {
   "cell_type": "markdown",
   "metadata": {},
   "source": [
    "Look at our new columns"
   ]
  },
  {
   "cell_type": "code",
   "execution_count": null,
   "metadata": {},
   "outputs": [],
   "source": [
    "mrkt_df[['ID', 'Dependents', 'Year_Customer', 'TotalMnt', 'TotalPurchases', 'TotalCampaignsAcc', 'NumDealsPurchases']].head(10)"
   ]
  },
  {
   "cell_type": "markdown",
   "metadata": {
    "tags": []
   },
   "source": [
    "## 3. Correlations & Observations"
   ]
  },
  {
   "cell_type": "markdown",
   "metadata": {},
   "source": [
    "So now we are ready to search for correlations again"
   ]
  },
  {
   "cell_type": "code",
   "execution_count": null,
   "metadata": {},
   "outputs": [],
   "source": [
    "agg_features = ['ID', 'Income', 'Dependents','TotalMnt','TotalPurchases', 'TotalCampaignsAcc', 'NumWebVisitsMonth', 'NumWebPurchases', 'NumDealsPurchases']"
   ]
  },
  {
   "cell_type": "code",
   "execution_count": null,
   "metadata": {},
   "outputs": [],
   "source": [
    "corrs = mrkt_df[agg_features].corr(method = 'kendall')\n",
    "plt.figure(figsize=(8,4))  #figure size\n",
    "sns.heatmap(corrs, cmap='coolwarm', center=0, annot = True)"
   ]
  },
  {
   "cell_type": "markdown",
   "metadata": {},
   "source": [
    "<div>   \n",
    "<img src=\"https://raw.githubusercontent.com/nlihin/data-analytics/main/images/mrkt_correlations.png?raw=true\" width = 500/>\n",
    "</div>"
   ]
  },
  {
   "cell_type": "markdown",
   "metadata": {},
   "source": [
    "We found some correlations :-)\n",
    "> Income and spending (`Income` & `TotalMnt`)  \n",
    "> Kids and spending (`Dependents` & `TotalMnt`)  \n",
    "> Kids and deals (`Dependents` & `NumDealsPurchases`)  \n",
    "> Campaigns and spending (`TotalCampaignsAcc` & `TotalMnt`)  \n",
    "> Web visits and purchases (`NumWebVisitsMonth` & `NumWebPurchases` & `NumDealsPurchases`)"
   ]
  },
  {
   "cell_type": "markdown",
   "metadata": {},
   "source": [
    "### Income and spendings (`Income` & `TotalMnt`)"
   ]
  },
  {
   "cell_type": "code",
   "execution_count": null,
   "metadata": {},
   "outputs": [],
   "source": [
    "plt.figure(figsize=(4,3))\n",
    "sns.regplot(x='Income', y='TotalMnt', data=mrkt_df)"
   ]
  },
  {
   "cell_type": "markdown",
   "metadata": {},
   "source": [
    "#### <span style=\"color:blue\"> Exercise:</span>\n",
    "> Plot the same graph, but remove the outlier\n"
   ]
  },
  {
   "cell_type": "code",
   "execution_count": null,
   "metadata": {},
   "outputs": [],
   "source": []
  },
  {
   "cell_type": "markdown",
   "metadata": {},
   "source": [
    "---\n",
    "### <span style=\"color:green\"> Observation 1:</span>\n",
    ">\n",
    ">The higher the income is, the more you spend\n",
    ">\n",
    "> (a bit trivial, not a very good observation)\n",
    "---"
   ]
  },
  {
   "cell_type": "markdown",
   "metadata": {},
   "source": [
    "### Kids and spendings (`Dependents` & `TotalMnt`)\n",
    "A plot illustrating the negative effect of having dependents (kids & teens) on spending:\n",
    "    "
   ]
  },
  {
   "cell_type": "code",
   "execution_count": null,
   "metadata": {},
   "outputs": [],
   "source": [
    "plt.figure(figsize=(4,3))\n",
    "sns.regplot(x='Dependents', y='TotalMnt', data=mrkt_df);"
   ]
  },
  {
   "cell_type": "markdown",
   "metadata": {},
   "source": [
    "A linear plot doesn't look good here since data is discrete (same for ordinal data - e.g. - none, few, many)\n",
    "\n",
    "---\n",
    "\n",
    "#### <span style=\"color:blue\"> Exercise:</span>\n",
    "> Try `boxplot` instead. What looks better?\n"
   ]
  },
  {
   "cell_type": "code",
   "execution_count": null,
   "metadata": {},
   "outputs": [],
   "source": [
    "plt.figure(figsize=(4,4))\n",
    "#YOUR CODE HERE\n",
    "plt.show()"
   ]
  },
  {
   "cell_type": "markdown",
   "metadata": {},
   "source": [
    "---"
   ]
  },
  {
   "cell_type": "markdown",
   "metadata": {},
   "source": [
    "### Kids and deals (`Dependents` & `NumDealsPurchases`)"
   ]
  },
  {
   "cell_type": "markdown",
   "metadata": {},
   "source": [
    "A plot illustrating positive effect of having dependents (kids & teens) on number of deals purchased:"
   ]
  },
  {
   "cell_type": "code",
   "execution_count": null,
   "metadata": {},
   "outputs": [],
   "source": [
    "plt.figure(figsize=(4,4))\n",
    "sns.boxplot(x='Dependents', y='NumDealsPurchases', data=mrkt_df)"
   ]
  },
  {
   "cell_type": "markdown",
   "metadata": {},
   "source": [
    "plot side-by-side so it will be easier to see"
   ]
  },
  {
   "cell_type": "code",
   "execution_count": null,
   "metadata": {},
   "outputs": [],
   "source": [
    "fig, ax = plt.subplots(1,2, figsize = (10,5))\n",
    "plt.subplots_adjust(wspace = 0.3)\n",
    "sns.boxplot(x='Dependents', y='TotalMnt', data=mrkt_df, ax = ax[0])\n",
    "sns.boxplot(x='Dependents', y='NumDealsPurchases', data=mrkt_df, ax = ax[1])\n",
    "plt.show()"
   ]
  },
  {
   "cell_type": "markdown",
   "metadata": {},
   "source": [
    "---\n",
    "### <span style=\"color:green\"> Observation 2:</span>\n",
    "\n",
    ">\n",
    ">People with more kids spend less\n",
    ">\n",
    ">People with more kids buy more deals\n",
    "\n",
    "\n",
    "---"
   ]
  },
  {
   "cell_type": "markdown",
   "metadata": {},
   "source": [
    "Plots illustrating the positive effect of campaigns"
   ]
  },
  {
   "cell_type": "markdown",
   "metadata": {},
   "source": [
    "### Campaigns and spending (`TotalCampaignsAcc` & `TotalMnt`)"
   ]
  },
  {
   "cell_type": "code",
   "execution_count": null,
   "metadata": {},
   "outputs": [],
   "source": [
    "plt.figure(figsize=(5.5,4))\n",
    "sns.boxplot(x='TotalCampaignsAcc', y='TotalMnt', data=mrkt_df);"
   ]
  },
  {
   "cell_type": "markdown",
   "metadata": {},
   "source": [
    "---\n",
    "### <span style=\"color:green\"> Observation 3:</span>\n",
    ">\n",
    ">Campaigns seem to be working\n",
    "\n",
    "---"
   ]
  },
  {
   "cell_type": "markdown",
   "metadata": {},
   "source": [
    "### <span style=\"color:green\"> Observation???</span>\n",
    ">\n",
    "> Campigns don't seem to corrolate with deals, even for different countries (this may be a good thing)\n",
    ">\n",
    "> This is not really an observation, since it doesn't focus on finding a new connection. It is only an observation if the company currently believes that there is a connection and you're proving them wrong.\n",
    "---"
   ]
  },
  {
   "cell_type": "markdown",
   "metadata": {},
   "source": [
    "### Web visits and purchases (`NumWebVisitsMonth` & `NumWebPurchases` & `NumDealsPurchases`)"
   ]
  },
  {
   "cell_type": "markdown",
   "metadata": {},
   "source": [
    "What about web visits and web purchases?"
   ]
  },
  {
   "cell_type": "code",
   "execution_count": null,
   "metadata": {},
   "outputs": [],
   "source": [
    "fig, ax = plt.subplots(1,2,figsize=(8, 4))\n",
    "sns.regplot(x='NumWebVisitsMonth', y='NumWebPurchases', data=mrkt_df, ax=ax[0])\n",
    "sns.regplot(x='NumWebVisitsMonth', y='NumDealsPurchases', data=mrkt_df, ax = ax[1])\n",
    "plt.subplots_adjust(wspace = 0.3)"
   ]
  },
  {
   "cell_type": "markdown",
   "metadata": {},
   "source": [
    "---\n",
    "\n",
    "### <span style=\"color:green\"> Observation 4:</span>\n",
    ">\n",
    "> Number of web visits in the last month is not positively correlated with number of web purchases\n",
    ">\n",
    "> Instead, it is positively correlated with the number of deals purchased, suggesting that the website is effective in stimulating purchases\n",
    "\n",
    "---"
   ]
  },
  {
   "cell_type": "markdown",
   "metadata": {},
   "source": [
    "<a id='section4'></a>"
   ]
  },
  {
   "cell_type": "markdown",
   "metadata": {
    "tags": []
   },
   "source": [
    "### Correlations in categorical data\n"
   ]
  },
  {
   "cell_type": "code",
   "execution_count": null,
   "metadata": {},
   "outputs": [],
   "source": [
    "mrkt_df[[\"Marital_Status\"]].value_counts()"
   ]
  },
  {
   "cell_type": "markdown",
   "metadata": {},
   "source": [
    "##### Is there a correlation between marital status and spendings?\n",
    "\n",
    "Create a df that holds only the status's we're interested in - the four biggest categories"
   ]
  },
  {
   "cell_type": "code",
   "execution_count": null,
   "metadata": {},
   "outputs": [],
   "source": [
    "status_mrkt = mrkt_df.loc[(mrkt_df.Marital_Status  == 'Single')|(mrkt_df.Marital_Status == 'Married')|(mrkt_df.Marital_Status == 'Together')|\\\n",
    "                          (mrkt_df.Marital_Status == 'Divorced')].copy()"
   ]
  },
  {
   "cell_type": "markdown",
   "metadata": {},
   "source": [
    "Create one-hot encodings for the categorical variables  \n",
    "Note: use smartly, so as not to add too many dimensions"
   ]
  },
  {
   "cell_type": "code",
   "execution_count": null,
   "metadata": {},
   "outputs": [],
   "source": [
    "features2 = ['Income', 'Dependents','TotalMnt','TotalPurchases', 'TotalCampaignsAcc',\\\n",
    "             'NumDealsPurchases', 'NumWebVisitsMonth', 'NumWebPurchases', 'Marital_Status', 'Response']\n",
    "\n",
    "status_mrkt_with_dummies = pd.get_dummies(status_mrkt[features2])"
   ]
  },
  {
   "cell_type": "markdown",
   "metadata": {},
   "source": [
    "One-hot encoding doesn't affect variables that are not categorical"
   ]
  },
  {
   "cell_type": "code",
   "execution_count": null,
   "metadata": {},
   "outputs": [],
   "source": [
    "corrs = status_mrkt_with_dummies.corr(method = 'kendall')\n",
    "plt.figure(figsize=(10,7))  #figure size\n",
    "sns.heatmap(corrs, cmap='coolwarm', center=0, annot = True);"
   ]
  },
  {
   "cell_type": "markdown",
   "metadata": {},
   "source": [
    "---\n",
    "\n",
    "### <span style=\"color:green\"> Observation???</span>\n",
    ">\n",
    "> There isn't any correlation between martial staus and spendings\n",
    ">\n",
    ">##### Observations should focus on what there IS, not what there isn't\n",
    ">\n",
    ">Let's try to look at the response to campgains\n",
    "\n",
    "---\n",
    "\n"
   ]
  },
  {
   "cell_type": "markdown",
   "metadata": {},
   "source": [
    "#### <span style=\"color:blue\"> Exercise:</span>\n",
    "Is there a connection between the status, dependents and response?\n",
    "> groupby `Marital_Status` and `Dependents` to find out  \n",
    "> use `unstack()` on the result to create a table"
   ]
  },
  {
   "cell_type": "code",
   "execution_count": null,
   "metadata": {},
   "outputs": [],
   "source": []
  },
  {
   "cell_type": "code",
   "execution_count": null,
   "metadata": {},
   "outputs": [],
   "source": []
  },
  {
   "cell_type": "markdown",
   "metadata": {},
   "source": [
    "---"
   ]
  },
  {
   "cell_type": "markdown",
   "metadata": {},
   "source": [
    "Or we can use a pivot table to obtain the same results:"
   ]
  },
  {
   "cell_type": "code",
   "execution_count": null,
   "metadata": {},
   "outputs": [],
   "source": [
    "status_mrkt.pivot_table('Response', index='Marital_Status', columns='Dependents', aggfunc='mean')  #aggfunc = 'mean' is the default"
   ]
  },
  {
   "cell_type": "markdown",
   "metadata": {},
   "source": [
    "Why would we want a table? Because with a table it's easier to figure out what's going on and what we should plot"
   ]
  },
  {
   "cell_type": "markdown",
   "metadata": {},
   "source": [
    "Single & Divorced with no kids are more likly to respond to a campaign"
   ]
  },
  {
   "cell_type": "code",
   "execution_count": null,
   "metadata": {},
   "outputs": [],
   "source": [
    "plt.figure(figsize=(5,4))\n",
    "#plt.xticks(rotation=90)\n",
    "ax = sns.barplot(data = status_mrkt, x='Marital_Status', y='Response', errorbar=None, hue = 'Dependents')\n",
    "ax.set(ylabel='average response')\n",
    "plt.legend(title='Dependents', loc=('upper right')) #the legend position\n",
    "plt.show()"
   ]
  },
  {
   "cell_type": "markdown",
   "metadata": {},
   "source": [
    "---\n",
    "\n",
    "### <span style=\"color:green\"> Observation 5:</span>\n",
    ">\n",
    "> Single & Divorced with no kids are more likly to respond to a campaign - average response is higher than 30%\n",
    ">\n",
    "> Married & Together with no kids respond at around 20%\n",
    ">\n",
    "\n",
    " \n",
    "\n",
    "---"
   ]
  },
  {
   "cell_type": "markdown",
   "metadata": {},
   "source": [
    "Is this it? No!! There is always more to do. We haven't touched country, education, or campaign responses and much more. \n"
   ]
  },
  {
   "cell_type": "markdown",
   "metadata": {},
   "source": [
    "#### Summary of commands used in this unit:\n",
    ">\n",
    "\n",
    "> 🧹 **Missing values**\n",
    ">\n",
    ">* `isnull().sum()` – check how many missing values exist in each column.\n",
    ">\n",
    ">* `fillna()` – fill missing values with a constant or calculated value (e.g., mean or median). [documentation](https://pandas.pydata.org/pandas-docs/stable/reference/api/pandas.DataFrame.fillna.html)\n",
    ">\n",
    ">* `fillna(df.mean())` – fill missing values using the mean of the column.\n",
    ">\n",
    ">* `dropna()` – remove rows with missing values. [documentation](https://pandas.pydata.org/pandas-docs/stable/reference/api/pandas.DataFrame.dropna.html)\n",
    ">\n",
    "\n",
    "---\n",
    "\n",
    "> 🔄 **Reshaping and selecting data**\n",
    ">\n",
    ">* `pd.melt()` – reshape the DataFrame from wide to long format for easy comparison in FacetGrid. [documentation](https://pandas.pydata.org/docs/reference/api/pandas.melt.html)\n",
    ">\n",
    ">* `drop()` – remove a column or index label from the DataFrame. [documentation](https://pandas.pydata.org/pandas-docs/stable/reference/api/pandas.DataFrame.drop.html)\n",
    ">\n",
    ">* `reset_index(drop=True)` – reset the index to default integers; use `drop=True` to discard the old index. [documentation](https://pandas.pydata.org/pandas-docs/stable/reference/api/pandas.DataFrame.reset_index.html)\n",
    ">\n",
    ">* `select_dtypes()` – select only columns of a specific data type (e.g., numeric or categorical). [documentation](https://pandas.pydata.org/docs/reference/api/pandas.DataFrame.select_dtypes.html)\n",
    ">\n",
    ">* `nunique()` – count the number of unique values in a column.\n",
    ">\n",
    ">* `list comprehension` – create a list using a compact condition-based syntax, e.g., `[col for col in df.columns if df[col].nunique() == 2]`. [documentation](https://docs.python.org/3/tutorial/datastructures.html#list-comprehensions)\n",
    "\n",
    "---\n",
    "\n",
    "> 📊 **Visualization**\n",
    ">\n",
    ">* `FacetGrid()` – create a grid of plots split by category. [documentation](https://seaborn.pydata.org/generated/seaborn.FacetGrid.html)\n",
    ">\n",
    ">* `.map()` – apply a plot type (e.g., countplot or histplot) to each facet in a FacetGrid.\n",
    "---\n"
   ]
  }
 ],
 "metadata": {
  "kernelspec": {
   "display_name": "Python 3 (ipykernel)",
   "language": "python",
   "name": "python3"
  },
  "language_info": {
   "codemirror_mode": {
    "name": "ipython",
    "version": 3
   },
   "file_extension": ".py",
   "mimetype": "text/x-python",
   "name": "python",
   "nbconvert_exporter": "python",
   "pygments_lexer": "ipython3",
   "version": "3.11.0"
  }
 },
 "nbformat": 4,
 "nbformat_minor": 4
}
