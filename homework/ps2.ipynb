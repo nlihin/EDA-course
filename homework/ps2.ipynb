{
 "cells": [
  {
   "cell_type": "markdown",
   "id": "12346466-ee79-425e-8ffd-ef2bc159b4de",
   "metadata": {
    "deletable": false,
    "editable": false,
    "nbgrader": {
     "cell_type": "markdown",
     "checksum": "03e0c8fdc8457da9cf034267421be85d",
     "grade": false,
     "grade_id": "cell-ebfd896cf852ebe9",
     "locked": true,
     "schema_version": 3,
     "solution": false,
     "task": false
    }
   },
   "source": [
    "<div style=\"color:white; border-radius:8px; background-color:#03112A; font-size:250%; letter-spacing:1.0px; padding: 1px; text-align: center;\">\n",
    "    <b>מטלה 2</b>\n",
    "</div>\n"
   ]
  },
  {
   "cell_type": "markdown",
   "id": "ac03c33d-7e04-4923-bf5f-8e1cc537b607",
   "metadata": {
    "deletable": false,
    "editable": false,
    "nbgrader": {
     "cell_type": "markdown",
     "checksum": "569813044edc7951e4676e2e1fe5d760",
     "grade": false,
     "grade_id": "cell-8234e62e4bda8698",
     "locked": true,
     "schema_version": 3,
     "solution": false,
     "task": false
    }
   },
   "source": [
    "<div dir=\"rtl\" style=\"text-align: right;\">\n",
    "מטרת המטלה הינה לתרגל את החומר שנלמד בשיעור ובתרגול השני <br>\n",
    "שימו לב שהמחברת נבדקת אוטומטית.<br>\n",
    "לכן אין למחוק תאים ואין למחוק קוד שכבר קיים. עיבדו בדיוק לפי ההוראות.\n",
    "</div>"
   ]
  },
  {
   "cell_type": "markdown",
   "id": "7ebd9cf2-f093-4176-a1bb-1c0dd4be461d",
   "metadata": {
    "deletable": false,
    "editable": false,
    "nbgrader": {
     "cell_type": "markdown",
     "checksum": "604964d5f6b8ae2d4e8bdd0290374eda",
     "grade": false,
     "grade_id": "cell-d361e4ed1b8b26e4",
     "locked": true,
     "schema_version": 3,
     "solution": false,
     "task": false
    }
   },
   "source": [
    "<div style=\"color:#03112A; border-radius:8px; background-color:#d0e8ff; font-size:150%; letter-spacing:1.0px; padding: 1px; text-align: center;\">\n",
    "    <b>שאלה 1</b>\n",
    "</div>"
   ]
  },
  {
   "cell_type": "markdown",
   "id": "0f5cd9e4-ff4c-433b-9bf3-25bed6189eca",
   "metadata": {
    "deletable": false,
    "editable": false,
    "nbgrader": {
     "cell_type": "markdown",
     "checksum": "cbf3988ab15b0f31477e26de700585cd",
     "grade": false,
     "grade_id": "cell-5a60311ff7fc9db8",
     "locked": true,
     "schema_version": 3,
     "solution": false,
     "task": false
    }
   },
   "source": [
    "<div dir=\"rtl\" style=\"text-align: right;\">\n",
    "הנה לינק בו נמצא קובץ עם נתונים:\n",
    "</div>\n",
    "\n",
    "<div dir=\"rtl\" style=\"text-align: right;\">\n",
    "<a href=\"https://raw.githubusercontent.com/nlihin/data-analytics/main/datasets/aircraft%20wildlife%20strikes.csv\" target=\"_blank\">\n",
    "https://raw.githubusercontent.com/nlihin/data-analytics/main/datasets/aircraft%20wildlife%20strikes.csv\n",
    "</a>\n",
    "</div>\n",
    "\n",
    "<div dir=\"rtl\" style=\"text-align: right;\">\n",
    "קראו את הקובץ לתוך משתנה בשם \n",
    "</div>\n",
    "\n",
    "<div dir=\"rtl\" style=\"text-align: right;\">\n",
    "<code>df</code>\n",
    "</div>\n",
    "\n",
    "<div dir=\"rtl\" style=\"text-align: right;\">\n",
    "הכניסו למשתנה בשם  \n",
    "<code>df_length</code><br>\n",
    "    את אורך הקובץ\n",
    "</div>"
   ]
  },
  {
   "cell_type": "code",
   "execution_count": null,
   "id": "265025a4-31fa-489a-9967-31c50befb370",
   "metadata": {
    "deletable": false,
    "nbgrader": {
     "cell_type": "code",
     "checksum": "91af3cbc8f5330453b71aa2b4d11a281",
     "grade": false,
     "grade_id": "cell-3d0eeb5fa8d8a619",
     "locked": false,
     "schema_version": 3,
     "solution": true,
     "task": false
    }
   },
   "outputs": [],
   "source": [
    "# YOUR CODE HERE\n",
    "raise NotImplementedError()"
   ]
  },
  {
   "cell_type": "code",
   "execution_count": null,
   "id": "be1b7169-3ae0-4719-962f-12ec2c3bdbd7",
   "metadata": {
    "deletable": false,
    "editable": false,
    "nbgrader": {
     "cell_type": "code",
     "checksum": "42d7f3fc3e23a4498e20e89204bd9ae4",
     "grade": true,
     "grade_id": "cell-61147ffa90bc70b8",
     "locked": true,
     "points": 34,
     "schema_version": 3,
     "solution": false,
     "task": false
    }
   },
   "outputs": [],
   "source": [
    "# Test cell (hidden)"
   ]
  },
  {
   "cell_type": "markdown",
   "id": "54f40d81-ff59-4509-8b34-c9984b6c7335",
   "metadata": {
    "deletable": false,
    "editable": false,
    "nbgrader": {
     "cell_type": "markdown",
     "checksum": "540170584ec9c11605608ca7ee0d8237",
     "grade": false,
     "grade_id": "2",
     "locked": true,
     "schema_version": 3,
     "solution": false,
     "task": false
    }
   },
   "source": [
    "<div style=\"color:#03112A; border-radius:8px; background-color:#d0e8ff; font-size:150%; letter-spacing:1.0px; padding: 1px; text-align: center;\">\n",
    "    <b>שאלה 2</b>\n",
    "</div>"
   ]
  },
  {
   "cell_type": "markdown",
   "id": "eea5d2fd-a5ed-42a9-a13b-d2a19ed6ff3d",
   "metadata": {
    "deletable": false,
    "editable": false,
    "nbgrader": {
     "cell_type": "markdown",
     "checksum": "81fc2c3e34ad445a9133a22457f2d234",
     "grade": false,
     "grade_id": "Q2",
     "locked": true,
     "schema_version": 3,
     "solution": false,
     "task": false
    }
   },
   "source": [
    "<div dir=\"rtl\" style=\"text-align: right;\">\n",
    "באיזו שנה היו הכי הרבה דיווחים?<br>\n",
    "שימרו את תשובתכם בתוך משתנה בשם<br>\n",
    "<code>top_year</code><br>"
   ]
  },
  {
   "cell_type": "code",
   "execution_count": null,
   "id": "034e285d-6610-4c9f-be88-cfe9a99b2e11",
   "metadata": {
    "deletable": false,
    "nbgrader": {
     "cell_type": "code",
     "checksum": "442690b163c376c5076ab10fd9de93b0",
     "grade": false,
     "grade_id": "cell-488b1441d841e353",
     "locked": false,
     "schema_version": 3,
     "solution": true,
     "task": false
    }
   },
   "outputs": [],
   "source": [
    "# YOUR CODE HERE\n",
    "raise NotImplementedError()"
   ]
  },
  {
   "cell_type": "code",
   "execution_count": null,
   "id": "80d0d2a3-c43d-44eb-b8c2-301a7ebc0b49",
   "metadata": {
    "deletable": false,
    "editable": false,
    "nbgrader": {
     "cell_type": "code",
     "checksum": "8d4001d93a75611664ee6fca240ba5d4",
     "grade": true,
     "grade_id": "cell-4975b5988fad814c",
     "locked": true,
     "points": 33,
     "schema_version": 3,
     "solution": false,
     "task": false
    }
   },
   "outputs": [],
   "source": [
    "# Test cell (hidden)"
   ]
  },
  {
   "cell_type": "markdown",
   "id": "6b1b1796-8b79-42b7-982a-a210fd9b2a63",
   "metadata": {
    "deletable": false,
    "editable": false,
    "nbgrader": {
     "cell_type": "markdown",
     "checksum": "6f1ee6ff47a1e8dc8d85211e4b797ebb",
     "grade": false,
     "grade_id": "3",
     "locked": true,
     "schema_version": 3,
     "solution": false,
     "task": false
    }
   },
   "source": [
    "<div style=\"color:#03112A; border-radius:8px; background-color:#d0e8ff; font-size:150%; letter-spacing:1.0px; padding: 1px; text-align: center;\">\n",
    "    <b>שאלה 3</b>\n",
    "</div>"
   ]
  },
  {
   "cell_type": "markdown",
   "id": "467255ab-8d47-4ed2-966b-2eaac357fe8c",
   "metadata": {
    "deletable": false,
    "editable": false,
    "nbgrader": {
     "cell_type": "markdown",
     "checksum": "a91729773c4b05b1308c8927b2ef1bac",
     "grade": false,
     "grade_id": "cell-3ed1f7a5a8c96a4a",
     "locked": true,
     "schema_version": 3,
     "solution": false,
     "task": false
    }
   },
   "source": [
    "<div dir=\"rtl\" style=\"text-align: right;\">\n",
    "מיצאו בדאטה את שם חברת התעופה עם האירוע שהתרחש במהירות הגבוהה ביותר<br>\n",
    "הכניסו למשתנה בשם\n",
    "    <code>operator_name</code><br>\n",
    " הערה: חברת התעופה היא ה\n",
    " <code>Operator</code><br> \n",
    " </div>"
   ]
  },
  {
   "cell_type": "code",
   "execution_count": null,
   "id": "1b5461cf-a189-4191-95d3-93ce8a7247e7",
   "metadata": {
    "deletable": false,
    "nbgrader": {
     "cell_type": "code",
     "checksum": "f75bfdb7dcac8c3b00427eebff7d9527",
     "grade": false,
     "grade_id": "cell-102c3bc1ffceace6",
     "locked": false,
     "schema_version": 3,
     "solution": true,
     "task": false
    }
   },
   "outputs": [],
   "source": [
    "# Solution cell\n",
    "# YOUR CODE HERE\n",
    "raise NotImplementedError()\n"
   ]
  },
  {
   "cell_type": "code",
   "execution_count": null,
   "id": "0dee7af9-22fd-43b9-9ce3-0c91398f8a1a",
   "metadata": {
    "deletable": false,
    "editable": false,
    "nbgrader": {
     "cell_type": "code",
     "checksum": "1816263c356c92516448efe1da066904",
     "grade": true,
     "grade_id": "cell-35d41f303a654c5d",
     "locked": true,
     "points": 33,
     "schema_version": 3,
     "solution": false,
     "task": false
    }
   },
   "outputs": [],
   "source": [
    "# Test cell (hidden)"
   ]
  },
  {
   "cell_type": "markdown",
   "id": "8b52fbfb-e61d-4cdb-a90d-f1d9c014cd56",
   "metadata": {
    "deletable": false,
    "editable": false,
    "nbgrader": {
     "cell_type": "markdown",
     "checksum": "713c9d6c187f3172de7a54df1a05cc2d",
     "grade": false,
     "grade_id": "cell-cbf78e8d66950199",
     "locked": true,
     "schema_version": 3,
     "solution": false,
     "task": false
    }
   },
   "source": [
    "\n",
    "\n",
    "<div dir=\"rtl\">\n",
    "\n",
    "**אסור להוסיף תאים נוספים מתחת לתא זה!!**\n",
    "\n",
    "</div>"
   ]
  }
 ],
 "metadata": {
  "kernelspec": {
   "display_name": "Python 3 (ipykernel)",
   "language": "python",
   "name": "python3"
  },
  "language_info": {
   "codemirror_mode": {
    "name": "ipython",
    "version": 3
   },
   "file_extension": ".py",
   "mimetype": "text/x-python",
   "name": "python",
   "nbconvert_exporter": "python",
   "pygments_lexer": "ipython3",
   "version": "3.10.2"
  }
 },
 "nbformat": 4,
 "nbformat_minor": 5
}
