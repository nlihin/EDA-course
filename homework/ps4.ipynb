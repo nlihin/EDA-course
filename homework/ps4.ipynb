{
 "cells": [
  {
   "cell_type": "markdown",
   "id": "c2d8ba2f-34ab-4aef-a1ac-9ca79f5e81ce",
   "metadata": {
    "deletable": false,
    "editable": false,
    "nbgrader": {
     "cell_type": "markdown",
     "checksum": "1caf06f52d1147f8aaeff0895ebf19cd",
     "grade": false,
     "grade_id": "cell-8923712ca3480d96",
     "locked": true,
     "schema_version": 3,
     "solution": false,
     "task": false
    }
   },
   "source": [
    "<div style=\"color:white; border-radius:8px; background-color:#03112A; font-size:250%; letter-spacing:1.0px; padding: 1px; text-align: center;\">\n",
    "    <b>מטלה 4</b>\n",
    "</div>\n"
   ]
  },
  {
   "cell_type": "markdown",
   "id": "ff4c2d08-a9ab-40c9-b99a-3fdaf9afbaf9",
   "metadata": {
    "deletable": false,
    "editable": false,
    "nbgrader": {
     "cell_type": "markdown",
     "checksum": "258a0176ba26fd532bce09af205e4a84",
     "grade": false,
     "grade_id": "cell-1cea1c97183cb903",
     "locked": true,
     "schema_version": 3,
     "solution": false,
     "task": false
    }
   },
   "source": [
    "<div dir=\"rtl\">\n",
    "    \n",
    "### מטרת המטלה הינה לתרגל את החומר שנלמד בשיעור ובתרגול \n",
    "\n",
    "   - **שימו לב שהמחברת נבדקת אוטומטית - לכן עיבדו בדיוק לפי ההוראות**\n",
    "   - **אין למחוק תאים**\n",
    "   - **אין להוסיף תאים**\n",
    "   - **אין להגיש אף מחברת אחרת מכל סוג שהוא - יש להגיש את מחברת זו בלבד** \n",
    "       - **תא הגשת תשובתכם לשאלה נמצא תחת השאלה בתא עם הערה # YOUR CODE HERE**\n",
    "       - **מחקו את הקוד המצורף raise NotImplementedError(מחק.י אותי) והכניסו את תשובתכם**\n",
    "#### בהצלחה !\n",
    "</div>"
   ]
  },
  {
   "cell_type": "markdown",
   "id": "333911f5-f737-4f8b-b533-66c6b47d3f55",
   "metadata": {
    "deletable": false,
    "editable": false,
    "nbgrader": {
     "cell_type": "markdown",
     "checksum": "27ca4d26b17b7582282d981ce7e3f734",
     "grade": false,
     "grade_id": "cell-3df32d454be152b2",
     "locked": true,
     "schema_version": 3,
     "solution": false,
     "task": false
    }
   },
   "source": [
    "<div style=\"color:#03112A; border-radius:8px; background-color:#d0e8ff; font-size:150%; letter-spacing:1.0px; padding: 1px; text-align: center;\">\n",
    "    <b>שאלה 1</b>\n",
    "</div>"
   ]
  },
  {
   "cell_type": "markdown",
   "id": "1a94551b-6975-4d12-be82-e3d8ecabc72e",
   "metadata": {
    "deletable": false,
    "editable": false,
    "nbgrader": {
     "cell_type": "markdown",
     "checksum": "40aeff17bb7a626e5c6eca5ae03b1242",
     "grade": false,
     "grade_id": "cell-d720b47a4958d8d3",
     "locked": true,
     "schema_version": 3,
     "solution": false,
     "task": false
    }
   },
   "source": [
    "<div dir=\"rtl\" style=\"text-align: right;\">\n",
    "הריצו את התא הבא\n",
    "</div>"
   ]
  },
  {
   "cell_type": "code",
   "execution_count": null,
   "id": "7fda42cb-64c0-4ca4-8ff2-c58931702fe3",
   "metadata": {},
   "outputs": [],
   "source": [
    "import pandas as pd\n",
    "import seaborn as sns\n",
    "import matplotlib.pyplot as plt"
   ]
  },
  {
   "cell_type": "code",
   "execution_count": null,
   "id": "f32c142c-c53a-4c1c-9e3a-2ecff6a71359",
   "metadata": {},
   "outputs": [],
   "source": [
    "df_path = \"https://raw.githubusercontent.com/nlihin/data-analytics/main/datasets/aircraft%20wildlife%20strikes%202018-2020.csv\"\n",
    "df = pd.read_csv(df_path)\n",
    "df['date'] = pd.to_datetime(df['INCIDENT_DATE'],format='%d/%m/%Y')\n",
    "df[\"weekday\"] = pd.DatetimeIndex(df['date']).strftime('%A')"
   ]
  },
  {
   "cell_type": "code",
   "execution_count": null,
   "id": "32400540-47c3-4f69-aafa-cef0a920b082",
   "metadata": {
    "deletable": false,
    "nbgrader": {
     "cell_type": "code",
     "checksum": "88fbe1de40e59435ca44fbe07f65ade3",
     "grade": false,
     "grade_id": "cell-aca350537c49a394",
     "locked": false,
     "schema_version": 3,
     "solution": true,
     "task": false
    }
   },
   "outputs": [],
   "source": [
    "#acc_FL = \n",
    "\n",
    "# YOUR CODE HERE\n",
    "raise NotImplementedError(מחק.י אותי)"
   ]
  },
  {
   "cell_type": "code",
   "execution_count": null,
   "id": "b2aeba73-4bc7-4903-9150-bfe2272b3e8a",
   "metadata": {
    "deletable": false,
    "editable": false,
    "nbgrader": {
     "cell_type": "code",
     "checksum": "5f4daf79a9c47f988eb269b616a934aa",
     "grade": true,
     "grade_id": "cell-2c6fe937f43f3a8b",
     "locked": true,
     "points": 20,
     "schema_version": 3,
     "solution": false,
     "task": false
    }
   },
   "outputs": [],
   "source": [
    "# לא לכתוב או למחוק תא זה"
   ]
  },
  {
   "cell_type": "markdown",
   "id": "80f957db-6b9b-43b2-a3ea-4a20ae2f518d",
   "metadata": {
    "deletable": false,
    "editable": false,
    "nbgrader": {
     "cell_type": "markdown",
     "checksum": "e29c8a3642a7520fc5d8ba9f99b4c1b0",
     "grade": false,
     "grade_id": "cell-d75bcf9e030927ca",
     "locked": true,
     "schema_version": 3,
     "solution": false,
     "task": false
    }
   },
   "source": [
    "<div style=\"color:#03112A; border-radius:8px; background-color:#d0e8ff; font-size:150%; letter-spacing:1.0px; padding: 1px; text-align: center;\">\n",
    "    <b>שאלה 2</b>\n",
    "</div>"
   ]
  },
  {
   "cell_type": "markdown",
   "id": "69ba2d50-02d4-45ae-b002-d4b16a555d2e",
   "metadata": {
    "deletable": false,
    "editable": false,
    "nbgrader": {
     "cell_type": "markdown",
     "checksum": "ea19abcf81b296a131d6e8e7db14f4f4",
     "grade": false,
     "grade_id": "cell-d5c8ae148fc27827",
     "locked": true,
     "schema_version": 3,
     "solution": false,
     "task": false
    }
   },
   "source": [
    "<div dir=\"rtl\" style=\"text-align: right;\">\n",
    "הריצו את הקוד הבא כדי שימות השבוע יהיו מסודרים לפי הסדר, מראשון עד שבת\n",
    "</div>"
   ]
  },
  {
   "cell_type": "code",
   "execution_count": null,
   "id": "39ce3e56-b415-46a5-b733-4ac9ebe296bf",
   "metadata": {},
   "outputs": [],
   "source": [
    "# Define the custom order for weekdays\n",
    "weekday_order = [\"Sunday\", \"Monday\", \"Tuesday\", \"Wednesday\", \"Thursday\", \"Friday\", \"Saturday\"]\n",
    "\n",
    "# Convert the weekday column to a categorical type with the defined order\n",
    "df[\"weekday\"] = pd.Categorical(df[\"weekday\"], categories=weekday_order, ordered=True)"
   ]
  },
  {
   "cell_type": "code",
   "execution_count": null,
   "id": "d2c57ad1-38ca-4318-8469-b80b1fb1d04e",
   "metadata": {
    "deletable": false,
    "nbgrader": {
     "cell_type": "code",
     "checksum": "240491e3ea188b5172794115323e2c6e",
     "grade": false,
     "grade_id": "cell-79d6d8a6e7455ad9",
     "locked": false,
     "schema_version": 3,
     "solution": true,
     "task": false
    }
   },
   "outputs": [],
   "source": [
    "# YOUR CODE HERE\n",
    "raise NotImplementedError(מחק.י אותי)"
   ]
  },
  {
   "cell_type": "code",
   "execution_count": null,
   "id": "4ad6201d-ffc9-47e6-a9ce-dc218ac3dc86",
   "metadata": {
    "deletable": false,
    "editable": false,
    "nbgrader": {
     "cell_type": "code",
     "checksum": "6bc35f05519e50e3f8d573c83ef77b17",
     "grade": true,
     "grade_id": "cell-5b561446cefec51c",
     "locked": true,
     "points": 20,
     "schema_version": 3,
     "solution": false,
     "task": false
    }
   },
   "outputs": [],
   "source": [
    "# לא לכתוב או למחוק תא זה"
   ]
  },
  {
   "cell_type": "markdown",
   "id": "a13f169f-74ce-4782-a1c1-45fca00f0a0a",
   "metadata": {
    "deletable": false,
    "editable": false,
    "nbgrader": {
     "cell_type": "markdown",
     "checksum": "27cf1460d7c5476502341e8958dc5d2a",
     "grade": false,
     "grade_id": "cell-8127e9bd4ac10c6b",
     "locked": true,
     "schema_version": 3,
     "solution": false,
     "task": false
    }
   },
   "source": [
    "<div style=\"color:#03112A; border-radius:8px; background-color:#d0e8ff; font-size:150%; letter-spacing:1.0px; padding: 1px; text-align: center;\">\n",
    "    <b>שאלה 3</b>\n",
    "</div>"
   ]
  },
  {
   "cell_type": "markdown",
   "id": "aac1e5fc-e06b-47af-9f57-63ce864d6882",
   "metadata": {
    "deletable": false,
    "editable": false,
    "nbgrader": {
     "cell_type": "markdown",
     "checksum": "16237d2c705f2b225d09d74e54222be4",
     "grade": false,
     "grade_id": "cell-a78a30ec7cec7e57",
     "locked": true,
     "schema_version": 3,
     "solution": false,
     "task": false
    }
   },
   "source": [
    "<div dir=\"rtl\" style=\"text-align: right;\">\n",
    "כתבו תשובתכם בתא הבא.\n",
    "<div   \n",
    "    \n",
    "הכניסו למשתנה `df1` את הסינונים והתנאים המקדימים לטובת הצגת הגרף.\n",
    "    \n",
    "</div>\n",
    "<div   \n",
    "\n",
    "הכניסו למשתנה df1 את הסינונים והתנאים המקדימים לטובת הצגת הגרף. כאשר אתם יוצרים את ה barplot עליכם להתמש במשתנה זה בצורה הבאה:\n",
    "</div>\n",
    "<div   \n",
    "    \n",
    "`sns.barplot(data = df1 ... )`\n",
    "</div>"
   ]
  },
  {
   "cell_type": "code",
   "execution_count": null,
   "id": "8dc811a1-6cfb-45b2-9e98-329e653e95ab",
   "metadata": {
    "deletable": false,
    "nbgrader": {
     "cell_type": "code",
     "checksum": "25f107b4ae287d7788d86bac523c636c",
     "grade": false,
     "grade_id": "cell-e299f636fbb4d2ea",
     "locked": false,
     "schema_version": 3,
     "solution": true,
     "task": false
    }
   },
   "outputs": [],
   "source": [
    "#df1 =\n",
    "\n",
    "# YOUR CODE HERE\n",
    "raise NotImplementedError(מחק.י אותי)"
   ]
  },
  {
   "cell_type": "code",
   "execution_count": null,
   "id": "b2f0aa9c-301a-4ae9-8021-cce5e52e678a",
   "metadata": {
    "deletable": false,
    "editable": false,
    "nbgrader": {
     "cell_type": "code",
     "checksum": "f4736d84501ce7892c27730ad751dd4d",
     "grade": true,
     "grade_id": "cell-d8c12773095b6398",
     "locked": true,
     "points": 20,
     "schema_version": 3,
     "solution": false,
     "task": false
    }
   },
   "outputs": [],
   "source": [
    "# לא לכתוב או למחוק תא זה"
   ]
  }
 ],
 "metadata": {
  "kernelspec": {
   "display_name": "Python 3 (ipykernel)",
   "language": "python",
   "name": "python3"
  },
  "language_info": {
   "codemirror_mode": {
    "name": "ipython",
    "version": 3
   },
   "file_extension": ".py",
   "mimetype": "text/x-python",
   "name": "python",
   "nbconvert_exporter": "python",
   "pygments_lexer": "ipython3",
   "version": "3.13.0"
  }
 },
 "nbformat": 4,
 "nbformat_minor": 5
}
