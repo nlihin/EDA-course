{
 "cells": [
  {
   "cell_type": "markdown",
   "id": "6f9654a0-e758-4129-b861-bad54991c3a6",
   "metadata": {
    "deletable": false,
    "editable": false,
    "nbgrader": {
     "cell_type": "markdown",
     "checksum": "017aef05a76cf523ff4816f4a2264dd4",
     "grade": false,
     "grade_id": "cell-ff35035d03d25294",
     "locked": true,
     "schema_version": 3,
     "solution": false,
     "task": false
    }
   },
   "source": [
    "<div style=\"color:white; border-radius:8px; background-color:#03112A; font-size:250%; letter-spacing:1.0px; padding: 1px; text-align: center;\">\n",
    "    <b>מטלה 3</b>\n",
    "</div>\n"
   ]
  },
  {
   "cell_type": "markdown",
   "id": "be2c2c37-de36-4596-b593-868109312a34",
   "metadata": {
    "deletable": false,
    "editable": false,
    "nbgrader": {
     "cell_type": "markdown",
     "checksum": "97448b14a9f6f7a18bd9d6e824f677d8",
     "grade": false,
     "grade_id": "cell-9d62190b97b7130d",
     "locked": true,
     "schema_version": 3,
     "solution": false,
     "task": false
    }
   },
   "source": [
    "<div dir=\"rtl\">\n",
    "    \n",
    "### מטרת המטלה הינה לתרגל את החומר שנלמד בשיעור ובתרגול השלישי\n",
    "\n",
    "   - **שימו לב שהמחברת נבדקת אוטומטית - לכן עיבדו בדיוק לפי ההוראות**\n",
    "   - **אין למחוק תאים**\n",
    "   - **אין להוסיף תאים**\n",
    "   - **אין להגיש אף מחברת אחרת מכל סוג שהוא - יש להגיש את מחברת זו בלבד** \n",
    "       - **תא הגשת תשובתכם לשאלה נמצא תחת השאלה בתא עם הערה # YOUR CODE HERE**\n",
    "       - **מחקו את הקוד המצורף raise NotImplementedError(מחק.י אותי) והכניסו את תשובתכם**\n",
    "#### בהצלחה !\n",
    "</div>"
   ]
  },
  {
   "cell_type": "markdown",
   "id": "e9ec9a3b-14b7-4af5-91bb-2ae010093ca4",
   "metadata": {
    "deletable": false,
    "editable": false,
    "nbgrader": {
     "cell_type": "markdown",
     "checksum": "2dca562f380178b9f11720786a38d548",
     "grade": false,
     "grade_id": "cell-4e4c7667fa54b512",
     "locked": true,
     "schema_version": 3,
     "solution": false,
     "task": false
    }
   },
   "source": [
    "<div style=\"color:#03112A; border-radius:8px; background-color:#d0e8ff; font-size:150%; letter-spacing:1.0px; padding: 1px; text-align: center;\">\n",
    "    <b>שאלה 1</b>\n",
    "</div>"
   ]
  },
  {
   "cell_type": "markdown",
   "id": "25038174-a92a-405d-b403-ff630628744b",
   "metadata": {
    "deletable": false,
    "editable": false,
    "nbgrader": {
     "cell_type": "markdown",
     "checksum": "a80b5500b12d29626a2a6ee0ac154bde",
     "grade": false,
     "grade_id": "cell-c7d4c3d99e3a09ea",
     "locked": true,
     "schema_version": 3,
     "solution": false,
     "task": false
    }
   },
   "source": [
    "<div dir=\"rtl\">\n",
    "\n",
    "קראו את הקובץ הבא :\n",
    "https://raw.githubusercontent.com/nlihin/data-analytics/main/datasets/aircraft%20wildlife%20strikes%202018-2020.csv\n",
    "\n",
    "**לא להגיש את המטלה בקובץ שקראתם מהמחשב !**\n",
    "\n",
    "עבור הקובץ שקראתם, קחו את שדה התאריך, וצרו ממנו עמודה חדשה בשם <code> weekday</code>\n",
    "    <br>\n",
    "    בעמודה זו צריך להיות את השם המלא של היום בשבוע בו התרחשה התאונה. לדוגמה:\n",
    "    <br>\n",
    "    <code> Monday, Tuesday,.., Sunday </code>\n",
    "\n",
    " לנוחיותכם : בתא הפתרון שלכם מצורף קריאת בצורה **הנכונה**\n",
    "</div>"
   ]
  },
  {
   "cell_type": "code",
   "execution_count": null,
   "id": "410ab7a3-185a-4899-8e07-650fad623d72",
   "metadata": {
    "deletable": false,
    "nbgrader": {
     "cell_type": "code",
     "checksum": "762174cb310646806980bbb3c5d49c75",
     "grade": false,
     "grade_id": "cell-e91f30c44bb94ab1",
     "locked": false,
     "schema_version": 3,
     "solution": true,
     "task": false
    }
   },
   "outputs": [],
   "source": [
    "import pandas as pd\n",
    "\n",
    "df_path = \"https://raw.githubusercontent.com/nlihin/data-analytics/main/datasets/aircraft%20wildlife%20strikes%202018-2020.csv\"\n",
    "df = pd.read_csv(df_path)\n",
    "\n",
    "# YOUR CODE HERE\n",
    "raise NotImplementedError(מחק.י אותי)"
   ]
  },
  {
   "cell_type": "code",
   "execution_count": null,
   "id": "6c31a623-29c6-4825-8f90-44fe71b36cb0",
   "metadata": {
    "deletable": false,
    "editable": false,
    "nbgrader": {
     "cell_type": "code",
     "checksum": "446f9f98849a673004319b5675ca6e19",
     "grade": true,
     "grade_id": "cell-60e16e2163282990",
     "locked": true,
     "points": 20,
     "schema_version": 3,
     "solution": false,
     "task": false
    }
   },
   "outputs": [],
   "source": [
    "# לא לכתוב או למחוק תא זה"
   ]
  },
  {
   "cell_type": "markdown",
   "id": "bf34e97a-8334-4a43-957f-68bd138588e9",
   "metadata": {
    "deletable": false,
    "editable": false,
    "nbgrader": {
     "cell_type": "markdown",
     "checksum": "bb95461442f53c6058975c5233db8511",
     "grade": false,
     "grade_id": "cell-ba948181d8e4b478",
     "locked": true,
     "schema_version": 3,
     "solution": false,
     "task": false
    }
   },
   "source": [
    "<div style=\"color:#03112A; border-radius:8px; background-color:#d0e8ff; font-size:150%; letter-spacing:1.0px; padding: 1px; text-align: center;\">\n",
    "    <b>שאלה 2</b>\n",
    "</div>"
   ]
  },
  {
   "cell_type": "markdown",
   "id": "fd66f0ae-b81c-49e4-a460-4ecb0af440bd",
   "metadata": {
    "deletable": false,
    "editable": false,
    "nbgrader": {
     "cell_type": "markdown",
     "checksum": "98456323b681e7eb97d3058fc657ada5",
     "grade": false,
     "grade_id": "cell-a73995524693a668",
     "locked": true,
     "schema_version": 3,
     "solution": false,
     "task": false
    }
   },
   "source": [
    "<div dir=\"rtl\" style=\"text-align: right;\">\n",
    "באיזה יום בשבוע היו הכי הרבה דיווחים?\n",
    "שימרו את תשובתכם בתוך משתנה בשם<br>\n",
    "<code>top_day</code><br>\n",
    "במשתנה ששמרתם יוצג היום בשבוע בלבד"
   ]
  },
  {
   "cell_type": "code",
   "execution_count": null,
   "id": "b81f0796-d871-410e-80cb-f5bee8455b2d",
   "metadata": {
    "deletable": false,
    "nbgrader": {
     "cell_type": "code",
     "checksum": "b4983e6c3dcb1ab606b22a1c596849f2",
     "grade": false,
     "grade_id": "cell-ceb86cf2a2a16239",
     "locked": false,
     "schema_version": 3,
     "solution": true,
     "task": false
    }
   },
   "outputs": [],
   "source": [
    "# YOUR CODE HERE\n",
    "raise NotImplementedError(מחק.י אותי)"
   ]
  },
  {
   "cell_type": "code",
   "execution_count": null,
   "id": "a69704df-8e4e-4877-8ded-f8e732cfcf78",
   "metadata": {
    "deletable": false,
    "editable": false,
    "nbgrader": {
     "cell_type": "code",
     "checksum": "1829d2e1df1b8ea46899d33c07fec7ce",
     "grade": true,
     "grade_id": "cell-40f75be14d0c85d0",
     "locked": true,
     "points": 20,
     "schema_version": 3,
     "solution": false,
     "task": false
    }
   },
   "outputs": [],
   "source": [
    "# לא לכתוב או למחוק תא זה\n"
   ]
  },
  {
   "cell_type": "markdown",
   "id": "ffeed072-8ad2-483e-8dad-01193324ca47",
   "metadata": {
    "deletable": false,
    "editable": false,
    "nbgrader": {
     "cell_type": "markdown",
     "checksum": "a758916de0f154bd10aff7ac1250aa21",
     "grade": false,
     "grade_id": "cell-62f5d7fe9fc2f61a",
     "locked": true,
     "schema_version": 3,
     "solution": false,
     "task": false
    }
   },
   "source": [
    "<div style=\"color:#03112A; border-radius:8px; background-color:#d0e8ff; font-size:150%; letter-spacing:1.0px; padding: 1px; text-align: center;\">\n",
    "    <b>שאלה 3</b>\n",
    "</div>"
   ]
  },
  {
   "cell_type": "markdown",
   "id": "1d20170b-594e-4173-a711-55f0739868c4",
   "metadata": {
    "deletable": false,
    "editable": false,
    "nbgrader": {
     "cell_type": "markdown",
     "checksum": "46853ac68de5c3726ccb78ae33232a96",
     "grade": false,
     "grade_id": "cell-a53f54b6e3049f15",
     "locked": true,
     "schema_version": 3,
     "solution": false,
     "task": false
    }
   },
   "source": [
    "<div dir=\"rtl\" style=\"text-align: right;\">\n",
    "מיצאו את חברת התעופה שאצלה התרחשו הכי הרבה תאונות עם ציפורים גדולות ביום שישי \n",
    "    <br>\n",
    "    תוכלו למצוא את גודל הציפור בעמודה\n",
    "    <code>SIZE </code>\n",
    "    <br>\n",
    "    ציפורים גדולות הן מסוג\n",
    "    <code>Large </code>\n",
    "    <br>\n",
    "    כמה תאונות עם ציפורים גדולות התרחשו עבור חברה זו ביום זה?\n",
    "    שימרו את תשובתכם במשתנה בשם\n",
    "    <code>operator_friday_large_size_accidents</code>\n",
    "    <br>\n",
    "    שימו לב שחברת התעופה צריכה להיות בעלת שם כלשהו, לא Unknown\n",
    " </div>"
   ]
  },
  {
   "cell_type": "code",
   "execution_count": null,
   "id": "f991f13b-b66d-4e19-81e9-b2091b27cb42",
   "metadata": {
    "deletable": false,
    "nbgrader": {
     "cell_type": "code",
     "checksum": "9daabb5bb6a338df3f6cec99fbfaac79",
     "grade": false,
     "grade_id": "cell-27c67d14db38661a",
     "locked": false,
     "schema_version": 3,
     "solution": true,
     "task": false
    }
   },
   "outputs": [],
   "source": [
    "# Solution cell\n",
    "\n",
    "#operator_friday_large_size_accidents = \n",
    "\n",
    "# YOUR CODE HERE\n",
    "raise NotImplementedError(מחק.י אותי)\n"
   ]
  },
  {
   "cell_type": "code",
   "execution_count": null,
   "id": "4d34e271-f964-4f7c-908f-8d0db1505bc5",
   "metadata": {
    "deletable": false,
    "editable": false,
    "nbgrader": {
     "cell_type": "code",
     "checksum": "f8862bcfd3de963b3b7e249a1268b86d",
     "grade": true,
     "grade_id": "cell-49ac6ea7c7605257",
     "locked": true,
     "points": 20,
     "schema_version": 3,
     "solution": false,
     "task": false
    }
   },
   "outputs": [],
   "source": [
    "# לא לכתוב או למחוק תא זה"
   ]
  },
  {
   "cell_type": "markdown",
   "id": "c6ad5fd8-19d8-4540-a670-1fa890c72b8e",
   "metadata": {
    "deletable": false,
    "editable": false,
    "nbgrader": {
     "cell_type": "markdown",
     "checksum": "07706afbbe0eb37e036b0b02fe8cd6d2",
     "grade": false,
     "grade_id": "cell-f929298aaaaa5f7f",
     "locked": true,
     "schema_version": 3,
     "solution": false,
     "task": false
    }
   },
   "source": [
    "<div style=\"color:#03112A; border-radius:8px; background-color:#d0e8ff; font-size:150%; letter-spacing:1.0px; padding: 1px; text-align: center;\">\n",
    "    <b>שאלה 4</b>\n",
    "</div>"
   ]
  },
  {
   "cell_type": "markdown",
   "id": "bd7e08a0-01fb-40e8-a20b-b6c2e84fe975",
   "metadata": {
    "deletable": false,
    "editable": false,
    "nbgrader": {
     "cell_type": "markdown",
     "checksum": "75dd2c06f55a3d084a90723290e22580",
     "grade": false,
     "grade_id": "cell-5a1b94f5c2dad3b2",
     "locked": true,
     "schema_version": 3,
     "solution": false,
     "task": false
    }
   },
   "source": [
    "<div dir=\"rtl\" style=\"text-align: right;\">\n",
    "    \n",
    "אתם עובדים בטרמינל כמנתחי נתונים והתבקשתם למצוא **באיזה יום** הייתה טיסה שמקורה `SOURCE` הוא `Air Transport` והמפעיל `OPERATOR` שלו הוא לא ידוע `UNKNOWN`\n",
    "שמרו את המשתנה בשם `Unknown_incident_operator`\n",
    "\n",
    "**יש לשמור את ערך הפלט בלבד**\n",
    "\n",
    "</div>"
   ]
  },
  {
   "cell_type": "code",
   "execution_count": null,
   "id": "bb6e023d-133e-49a5-acb0-d48897801e33",
   "metadata": {
    "deletable": false,
    "nbgrader": {
     "cell_type": "code",
     "checksum": "0e2b479efa8d94b6a4ca38cee1a741c1",
     "grade": false,
     "grade_id": "cell-7c101949e141e226",
     "locked": false,
     "schema_version": 3,
     "solution": true,
     "task": false
    }
   },
   "outputs": [],
   "source": [
    "# YOUR CODE HERE\n",
    "raise NotImplementedError(מחק.י אותי)"
   ]
  },
  {
   "cell_type": "code",
   "execution_count": null,
   "id": "86171ea1-03ea-4c2f-8639-223025caf56b",
   "metadata": {
    "deletable": false,
    "editable": false,
    "nbgrader": {
     "cell_type": "code",
     "checksum": "5c5e5a8c0ef7d0f6781383b96b90e74a",
     "grade": true,
     "grade_id": "cell-55e3b21b7c446251",
     "locked": true,
     "points": 20,
     "schema_version": 3,
     "solution": false,
     "task": false
    }
   },
   "outputs": [],
   "source": [
    "# לא לכתוב או למחוק תא זה\n",
    "# בדיקה אם המשתנה Unknown_incident_operator קיים\n",
    "assert 'Unknown_incident_operator' in globals(), \"The variable 'Unknown_incident_operator' should be defined.\"\n",
    "\n",
    "# בדיקה אם המשתנה Unknown_incident_operator הוא מסוג str\n",
    "assert isinstance(Unknown_incident_operator, str), \"The variable 'Unknown_incident_operator' should be a string representing the day of the week.\"\n",
    "\n",
    "# בדיקה אם הערך של Unknown_incident_operator נכון\n",
    "expected_value = df[\n",
    "    (df['SOURCE'].str.contains('Air Transport')) & \n",
    "    (df['OPERATOR'].str.contains('UNKNOWN'))\n",
    "]['weekday'].values[0]\n",
    "assert Unknown_incident_operator == expected_value, (\n",
    "    f\"The value of 'Unknown_incident_operator' is incorrect. Expected '{expected_value}', but got '{Unknown_incident_operator}'.\"\n",
    ")\n"
   ]
  },
  {
   "cell_type": "markdown",
   "id": "845c8d04-1011-4955-a11b-30021fcc91f6",
   "metadata": {
    "deletable": false,
    "editable": false,
    "nbgrader": {
     "cell_type": "markdown",
     "checksum": "951785f74a1a0813f610a4a031309cb1",
     "grade": false,
     "grade_id": "cell-0d450a8289f980b4",
     "locked": true,
     "schema_version": 3,
     "solution": false,
     "task": false
    }
   },
   "source": [
    "<div style=\"color:#03112A; border-radius:8px; background-color:#d0e8ff; font-size:150%; letter-spacing:1.0px; padding: 1px; text-align: center;\">\n",
    "    <b>שאלה 5</b>\n",
    "</div>"
   ]
  },
  {
   "cell_type": "markdown",
   "id": "e9be2f89-61c0-4b74-b5a2-aa478e418f12",
   "metadata": {
    "deletable": false,
    "editable": false,
    "nbgrader": {
     "cell_type": "markdown",
     "checksum": "5e58e1c900b1ce9921a1b562822bd316",
     "grade": false,
     "grade_id": "cell-33d2737fcb1990cd",
     "locked": true,
     "schema_version": 3,
     "solution": false,
     "task": false
    }
   },
   "source": [
    "<div dir=\"rtl\" style=\"text-align: right;\">\n",
    "\n",
    "מהו מספר השורה של הטיסה שמצאתם בשאלה 4 ?\n",
    "\n",
    "עשו שימוש ב- `iloc` להציג בשורה זו את הערך בעמודה `RUNWAY`\n",
    "\n",
    "שמרו את המשתנה בשם `Runway_code`\n",
    "\n",
    "**יש לשמור את ערך הפלט בלבד**\n",
    "\n",
    "</div>"
   ]
  },
  {
   "cell_type": "code",
   "execution_count": null,
   "id": "f512f58f-0b5b-4750-a062-7a4afb0951db",
   "metadata": {
    "deletable": false,
    "nbgrader": {
     "cell_type": "code",
     "checksum": "891af305c9248a58d22620e73e1bf83f",
     "grade": false,
     "grade_id": "cell-8795e8a3aa342b04",
     "locked": false,
     "schema_version": 3,
     "solution": true,
     "task": false
    }
   },
   "outputs": [],
   "source": [
    "# YOUR CODE HERE\n",
    "raise NotImplementedError(מחק.י אותי)"
   ]
  },
  {
   "cell_type": "code",
   "execution_count": null,
   "id": "ca067f0c-b5ba-4dd1-8ef6-3672594e1123",
   "metadata": {
    "deletable": false,
    "editable": false,
    "nbgrader": {
     "cell_type": "code",
     "checksum": "d35668aa94bb15a0b362fd7ab83bfa15",
     "grade": true,
     "grade_id": "cell-29381b599ccbcf13",
     "locked": true,
     "points": 20,
     "schema_version": 3,
     "solution": false,
     "task": false
    }
   },
   "outputs": [],
   "source": [
    "# לא לכתוב או למחוק תא זה\n"
   ]
  },
  {
   "cell_type": "markdown",
   "id": "b19d768f-c879-4e64-a927-e08c336903ef",
   "metadata": {
    "deletable": false,
    "editable": false,
    "nbgrader": {
     "cell_type": "markdown",
     "checksum": "ae10ca55f58e1fa86e764de94fcc4d92",
     "grade": false,
     "grade_id": "cell-30fb182a93fc81dd",
     "locked": true,
     "schema_version": 3,
     "solution": false,
     "task": false
    }
   },
   "source": [
    "<div dir=\"rtl\">\n",
    "\n",
    "**אסור להוסיף תאים נוספים מתחת לתא זה!!**\n",
    "\n",
    "**בהצלחה !**\n",
    "</div>"
   ]
  }
 ],
 "metadata": {
  "kernelspec": {
   "display_name": "Python 3 (ipykernel)",
   "language": "python",
   "name": "python3"
  },
  "language_info": {
   "codemirror_mode": {
    "name": "ipython",
    "version": 3
   },
   "file_extension": ".py",
   "mimetype": "text/x-python",
   "name": "python",
   "nbconvert_exporter": "python",
   "pygments_lexer": "ipython3",
   "version": "3.13.0"
  }
 },
 "nbformat": 4,
 "nbformat_minor": 5
}
