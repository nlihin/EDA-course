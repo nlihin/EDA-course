{
 "cells": [
  {
   "cell_type": "markdown",
   "id": "12346466-ee79-425e-8ffd-ef2bc159b4de",
   "metadata": {
    "deletable": false,
    "editable": false,
    "nbgrader": {
     "cell_type": "markdown",
     "checksum": "eb207d9611a42735e9969ef56016afba",
     "grade": false,
     "grade_id": "title",
     "locked": true,
     "schema_version": 3,
     "solution": false,
     "task": false
    }
   },
   "source": [
    "<div style=\"color:white; border-radius:8px; background-color:#03112A; font-size:250%; letter-spacing:1.0px; padding: 1px; text-align: center;\">\n",
    "    <b>מטלה 1</b>\n",
    "</div>\n"
   ]
  },
  {
   "cell_type": "markdown",
   "id": "ac03c33d-7e04-4923-bf5f-8e1cc537b607",
   "metadata": {
    "deletable": false,
    "editable": false,
    "nbgrader": {
     "cell_type": "markdown",
     "checksum": "945d79280c2f21e26e29ea3becc5c6fa",
     "grade": false,
     "grade_id": "description1",
     "locked": true,
     "schema_version": 3,
     "solution": false,
     "task": false
    }
   },
   "source": [
    "<div dir=\"rtl\" style=\"text-align: right;\">\n",
    "מטרת המטלה הינה לתרגל את החומר שנלמד בשיעור ובתרגול הראשון. <br>\n",
    "שימו לב שהמחברת נבדקת אוטומטית.<br>\n",
    "לכן אין למחוק תאים ואין למחוק קוד שכבר קיים. עיבדו בדיוק לפי ההוראות.\n",
    "</div>"
   ]
  },
  {
   "cell_type": "markdown",
   "id": "7ebd9cf2-f093-4176-a1bb-1c0dd4be461d",
   "metadata": {
    "deletable": false,
    "editable": false,
    "nbgrader": {
     "cell_type": "markdown",
     "checksum": "b56b0e48cf6edfac662b153eeb283a86",
     "grade": false,
     "grade_id": "Q1",
     "locked": true,
     "schema_version": 3,
     "solution": false,
     "task": false
    }
   },
   "source": [
    "<div style=\"color:#03112A; border-radius:8px; background-color:#d0e8ff; font-size:150%; letter-spacing:1.0px; padding: 1px; text-align: center;\">\n",
    "    <b>שאלה 1</b>\n",
    "</div>"
   ]
  },
  {
   "cell_type": "markdown",
   "id": "0f5cd9e4-ff4c-433b-9bf3-25bed6189eca",
   "metadata": {
    "deletable": false,
    "editable": false,
    "nbgrader": {
     "cell_type": "markdown",
     "checksum": "8cabaf3536bb41ddc7b5d0ba92dc9541",
     "grade": false,
     "grade_id": "Q1W",
     "locked": true,
     "schema_version": 3,
     "solution": false,
     "task": false
    }
   },
   "source": [
    "<div dir=\"rtl\" style=\"text-align: right;\">\n",
    "הנה לינק בו נמצא קובץ עם נתונים:\n",
    "</div>\n",
    "\n",
    "<div dir=\"rtl\" style=\"text-align: right;\">\n",
    "<a href=\"https://raw.githubusercontent.com/nlihin/data-analytics/refs/heads/main/datasets/student_data.csv\" target=\"_blank\">\n",
    "https://raw.githubusercontent.com/nlihin/data-analytics/refs/heads/main/datasets/student_data.csv\n",
    "</a>\n",
    "</div>\n",
    "\n",
    "<div dir=\"rtl\" style=\"text-align: right;\">\n",
    "קראו את הקובץ לתוך משתנה בשם \n",
    "</div>\n",
    "\n",
    "<div dir=\"rtl\" style=\"text-align: right;\">\n",
    "<code>student_df</code>\n",
    "</div>\n"
   ]
  },
  {
   "cell_type": "code",
   "execution_count": null,
   "id": "265025a4-31fa-489a-9967-31c50befb370",
   "metadata": {
    "deletable": false,
    "nbgrader": {
     "cell_type": "code",
     "checksum": "2f431d69bf6c057dd1542595bee28996",
     "grade": false,
     "grade_id": "Q1CODE",
     "locked": false,
     "schema_version": 3,
     "solution": true,
     "task": false
    }
   },
   "outputs": [],
   "source": [
    "# YOUR CODE HERE\n",
    "raise NotImplementedError()"
   ]
  },
  {
   "cell_type": "code",
   "execution_count": null,
   "id": "be1b7169-3ae0-4719-962f-12ec2c3bdbd7",
   "metadata": {
    "deletable": false,
    "editable": false,
    "nbgrader": {
     "cell_type": "code",
     "checksum": "84dd3796033bb8418d7df1cbeb13d950",
     "grade": true,
     "grade_id": "Q1TEST",
     "locked": true,
     "points": 15,
     "schema_version": 3,
     "solution": false,
     "task": false
    }
   },
   "outputs": [],
   "source": [
    "# Test cell (hidden)"
   ]
  },
  {
   "cell_type": "markdown",
   "id": "54f40d81-ff59-4509-8b34-c9984b6c7335",
   "metadata": {
    "deletable": false,
    "editable": false,
    "nbgrader": {
     "cell_type": "markdown",
     "checksum": "ee731e268d816bde4fb65a5ae2c1cd58",
     "grade": false,
     "grade_id": "Q2",
     "locked": true,
     "schema_version": 3,
     "solution": false,
     "task": false
    }
   },
   "source": [
    "<div style=\"color:#03112A; border-radius:8px; background-color:#d0e8ff; font-size:150%; letter-spacing:1.0px; padding: 1px; text-align: center;\">\n",
    "    <b>שאלה 2</b>\n",
    "</div>"
   ]
  },
  {
   "cell_type": "markdown",
   "id": "eea5d2fd-a5ed-42a9-a13b-d2a19ed6ff3d",
   "metadata": {
    "deletable": false,
    "editable": false,
    "nbgrader": {
     "cell_type": "markdown",
     "checksum": "797ecfc3af8639dc0a4fde7a24cecf09",
     "grade": false,
     "grade_id": "description2",
     "locked": true,
     "schema_version": 3,
     "solution": false,
     "task": false
    }
   },
   "source": [
    "<div dir=\"rtl\" style=\"text-align: right;\">\n",
    "בדקו את סוג המשתנה<br>\n",
    "<code>student_df</code><br>\n",
    "שימרו את תשובתכם בתוך משתנה בשם<br>\n",
    "<code>student_df_type</code><br>"
   ]
  },
  {
   "cell_type": "code",
   "execution_count": null,
   "id": "034e285d-6610-4c9f-be88-cfe9a99b2e11",
   "metadata": {
    "deletable": false,
    "nbgrader": {
     "cell_type": "code",
     "checksum": "d5a71ca6a327acb9e39758358c13d86b",
     "grade": false,
     "grade_id": "Q2CODE",
     "locked": false,
     "schema_version": 3,
     "solution": true,
     "task": false
    }
   },
   "outputs": [],
   "source": [
    "# YOUR CODE HERE\n",
    "raise NotImplementedError()"
   ]
  },
  {
   "cell_type": "code",
   "execution_count": null,
   "id": "80d0d2a3-c43d-44eb-b8c2-301a7ebc0b49",
   "metadata": {
    "deletable": false,
    "editable": false,
    "nbgrader": {
     "cell_type": "code",
     "checksum": "19461f2e2cbbe5a8390b06082c88bec0",
     "grade": true,
     "grade_id": "Q2TEST",
     "locked": true,
     "points": 15,
     "schema_version": 3,
     "solution": false,
     "task": false
    }
   },
   "outputs": [],
   "source": [
    "# Test cell (hidden)"
   ]
  },
  {
   "cell_type": "markdown",
   "id": "6b1b1796-8b79-42b7-982a-a210fd9b2a63",
   "metadata": {
    "deletable": false,
    "editable": false,
    "nbgrader": {
     "cell_type": "markdown",
     "checksum": "ae04ed028a6b1add0ba2b016f785e394",
     "grade": false,
     "grade_id": "Q3",
     "locked": true,
     "schema_version": 3,
     "solution": false,
     "task": false
    }
   },
   "source": [
    "<div style=\"color:#03112A; border-radius:8px; background-color:#d0e8ff; font-size:150%; letter-spacing:1.0px; padding: 1px; text-align: center;\">\n",
    "    <b>שאלה 3</b>\n",
    "</div>"
   ]
  },
  {
   "cell_type": "markdown",
   "id": "467255ab-8d47-4ed2-966b-2eaac357fe8c",
   "metadata": {
    "deletable": false,
    "editable": false,
    "nbgrader": {
     "cell_type": "markdown",
     "checksum": "9586d06c406e1219aab051420b1b9fa8",
     "grade": false,
     "grade_id": "description3",
     "locked": true,
     "schema_version": 3,
     "solution": false,
     "task": false
    }
   },
   "source": [
    "<div dir=\"rtl\" style=\"text-align: right;\">\n",
    "מיצאו בדאטה שתי עמודות שיש בהן נתונים זהים<br>\n",
    "התשובה צריך להראות בפורמט הבא:\n",
    "</div>\n",
    "identical_columns = [(\"column_name1\", \"column_name2\")]"
   ]
  },
  {
   "cell_type": "code",
   "execution_count": null,
   "id": "1b5461cf-a189-4191-95d3-93ce8a7247e7",
   "metadata": {
    "deletable": false,
    "nbgrader": {
     "cell_type": "code",
     "checksum": "867e400169c154893b372f71e5ea48ea",
     "grade": false,
     "grade_id": "Q3CODE",
     "locked": false,
     "schema_version": 3,
     "solution": true,
     "task": false
    }
   },
   "outputs": [],
   "source": [
    "# Solution cell\n",
    "# YOUR CODE HERE\n",
    "raise NotImplementedError()\n"
   ]
  },
  {
   "cell_type": "code",
   "execution_count": null,
   "id": "0dee7af9-22fd-43b9-9ce3-0c91398f8a1a",
   "metadata": {
    "deletable": false,
    "editable": false,
    "nbgrader": {
     "cell_type": "code",
     "checksum": "f84872ac3e55aa5d6594264c92511659",
     "grade": true,
     "grade_id": "Q3TEST",
     "locked": true,
     "points": 15,
     "schema_version": 3,
     "solution": false,
     "task": false
    }
   },
   "outputs": [],
   "source": [
    "# Test cell (hidden)"
   ]
  },
  {
   "cell_type": "markdown",
   "id": "1fa1d4aa-e0f4-49f7-86c5-8db60a032ba7",
   "metadata": {
    "deletable": false,
    "editable": false,
    "nbgrader": {
     "cell_type": "markdown",
     "checksum": "1302474422e5b2dfc4f5a592ca7ba08f",
     "grade": false,
     "grade_id": "Q4",
     "locked": true,
     "schema_version": 3,
     "solution": false,
     "task": false
    }
   },
   "source": [
    "<div style=\"color:#03112A; border-radius:8px; background-color:#d0e8ff; font-size:150%; letter-spacing:1.0px; padding: 1px; text-align: center;\">\n",
    "    <b>שאלה 4</b>\n",
    "</div>"
   ]
  },
  {
   "cell_type": "markdown",
   "id": "e5db40a2-b2b7-44ba-a4e8-ce6324f63fbf",
   "metadata": {
    "deletable": false,
    "editable": false,
    "nbgrader": {
     "cell_type": "markdown",
     "checksum": "87265440fe6b882c56926eb3b7cc0900",
     "grade": false,
     "grade_id": "description4",
     "locked": true,
     "schema_version": 3,
     "solution": false,
     "task": false
    }
   },
   "source": [
    "<div dir=\"rtl\" style=\"text-align: right;\">\n",
    "צרו עמודה חדשה שהתוכן שלה הוא המכפלה של<br>\n",
    "    <code> Score1</code>\n",
    "    <code> Score2</code>\n",
    "</div>\n",
    "\n",
    "<div dir=\"rtl\" style=\"text-align: right;\">\n",
    "שם העמודה החדשה:<br>\n",
    "<code> Score 6</code>\n",
    "</div>"
   ]
  },
  {
   "cell_type": "code",
   "execution_count": null,
   "id": "6b5d9ea3-4995-4062-b89c-fabf191c722f",
   "metadata": {
    "deletable": false,
    "nbgrader": {
     "cell_type": "code",
     "checksum": "cb586d7095677d956ac5feea3ef6136a",
     "grade": false,
     "grade_id": "Q4CODE",
     "locked": false,
     "schema_version": 3,
     "solution": true,
     "task": false
    }
   },
   "outputs": [],
   "source": [
    "# Solution cell\n",
    "# YOUR CODE HERE\n",
    "raise NotImplementedError()\n"
   ]
  },
  {
   "cell_type": "code",
   "execution_count": null,
   "id": "e5f5ee45-a6a1-4396-88c6-b4d6e4b3d92c",
   "metadata": {
    "deletable": false,
    "editable": false,
    "nbgrader": {
     "cell_type": "code",
     "checksum": "61ce1748eac3101adb41ca0adb038ddb",
     "grade": true,
     "grade_id": "Q4TEST",
     "locked": true,
     "points": 15,
     "schema_version": 3,
     "solution": false,
     "task": false
    }
   },
   "outputs": [],
   "source": [
    "# Test cell (hidden)"
   ]
  },
  {
   "cell_type": "markdown",
   "id": "ce1b0785-c74a-4074-8186-94244ab139e8",
   "metadata": {
    "deletable": false,
    "editable": false,
    "nbgrader": {
     "cell_type": "markdown",
     "checksum": "9af15b1443b91bbd46567a959fc52d7a",
     "grade": false,
     "grade_id": "Q5",
     "locked": true,
     "schema_version": 3,
     "solution": false,
     "task": false
    }
   },
   "source": [
    "<div style=\"color:#03112A; border-radius:8px; background-color:#d0e8ff; font-size:150%; letter-spacing:1.0px; padding: 1px; text-align: center;\">\n",
    "    <b>שאלה 5</b>\n",
    "</div>"
   ]
  },
  {
   "cell_type": "markdown",
   "id": "9110fc6b-5c3f-4dca-b858-748c033ace60",
   "metadata": {
    "deletable": false,
    "editable": false,
    "nbgrader": {
     "cell_type": "markdown",
     "checksum": "31cc6db1e6d9d9b3c9272ba6c85441dc",
     "grade": false,
     "grade_id": "description5",
     "locked": true,
     "schema_version": 3,
     "solution": false,
     "task": false
    }
   },
   "source": [
    "<div dir=\"rtl\" style=\"text-align: right;\">\n",
    "התאמנו בכתיבה שפת מרק-דאון.<br>\n",
    "כיתבו מה הייתם רוצים להפיק מקורס זה. כיתבו מה אתם מקווים ללמוד.<br>\n",
    "השתמשו בלפחות שלושה סוגי פורמט שונים<br>\n",
    "\n"
   ]
  },
  {
   "cell_type": "markdown",
   "id": "afbd77ac-6aeb-4f4a-9c5b-b3e842568ad0",
   "metadata": {
    "deletable": false,
    "editable": false,
    "nbgrader": {
     "cell_type": "markdown",
     "checksum": "c32a770bee934ba8fedfb84f5991089b",
     "grade": false,
     "grade_id": "Q5CODE",
     "locked": true,
     "points": 0,
     "schema_version": 3,
     "solution": false,
     "task": true
    }
   },
   "source": []
  },
  {
   "cell_type": "markdown",
   "id": "8b52fbfb-e61d-4cdb-a90d-f1d9c014cd56",
   "metadata": {
    "deletable": false,
    "editable": false,
    "nbgrader": {
     "cell_type": "markdown",
     "checksum": "713c9d6c187f3172de7a54df1a05cc2d",
     "grade": false,
     "grade_id": "cell-cbf78e8d66950199",
     "locked": true,
     "schema_version": 3,
     "solution": false,
     "task": false
    }
   },
   "source": [
    "\n",
    "\n",
    "<div dir=\"rtl\">\n",
    "\n",
    "**אסור להוסיף תאים נוספים מתחת לתא זה!!**\n",
    "\n",
    "</div>"
   ]
  }
 ],
 "metadata": {
  "kernelspec": {
   "display_name": "Python 3 (ipykernel)",
   "language": "python",
   "name": "python3"
  },
  "language_info": {
   "codemirror_mode": {
    "name": "ipython",
    "version": 3
   },
   "file_extension": ".py",
   "mimetype": "text/x-python",
   "name": "python",
   "nbconvert_exporter": "python",
   "pygments_lexer": "ipython3",
   "version": "3.10.2"
  }
 },
 "nbformat": 4,
 "nbformat_minor": 5
}
