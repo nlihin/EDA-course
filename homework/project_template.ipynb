{
 "cells": [
  {
   "cell_type": "markdown",
   "id": "a275784e-8460-4468-98f0-e7755b6986f7",
   "metadata": {},
   "source": [
    "# Project Name: <insert here>\n",
    "\n",
    "### Project number: \n",
    "insert your project number from the spreadsheet where you signed up (https://shorturl.at/VHhVv)\n",
    "\n",
    "### Project team members: <insert here>\n",
    "2 members, maximum 3 if one or more members are in reserve service (Miluim).  \n",
    "Do NOT insert id numbers!\n",
    "\n",
    "### Project description: \n",
    "1-3 lines describing your project\n",
    "\n",
    "### Link to the data: \n",
    "[This is an example, replace with your link](https://www.kaggle.com/datasets/zafarali27/netflix-movies-and-tv-shows)\n"
   ]
  },
  {
   "cell_type": "markdown",
   "id": "a66dd24f-ed31-42b8-b6fe-425a4a87e535",
   "metadata": {},
   "source": [
    "----"
   ]
  },
  {
   "cell_type": "markdown",
   "id": "40924565-a0c6-4f91-b4c1-57816a816cbe",
   "metadata": {},
   "source": [
    "#### Read you file from Github:"
   ]
  },
  {
   "cell_type": "code",
   "execution_count": null,
   "id": "5dbc7e4b-6bbf-40f0-825d-30b1eb4b6ac6",
   "metadata": {},
   "outputs": [],
   "source": []
  },
  {
   "cell_type": "code",
   "execution_count": null,
   "id": "10ba557c-f1b4-45cf-8771-2764ad1a02de",
   "metadata": {},
   "outputs": [],
   "source": []
  },
  {
   "cell_type": "markdown",
   "id": "f2a78930-bf7b-4d50-902b-c35a91b19ab0",
   "metadata": {},
   "source": [
    "#### Describe the data\n",
    "* How many rows?\n",
    "* How many columns?\n",
    "* How many numeric columns? (not including numerical identifiers - numbers that uniquely define the row)\n",
    "* How many categorical columns? (not including string identifiers -  values that uniquely define the row)"
   ]
  },
  {
   "cell_type": "code",
   "execution_count": null,
   "id": "318da777-a227-4189-a7ac-164c840e8027",
   "metadata": {},
   "outputs": [],
   "source": []
  },
  {
   "cell_type": "code",
   "execution_count": null,
   "id": "c92f0aeb-7103-4225-8b74-f4545328a145",
   "metadata": {},
   "outputs": [],
   "source": [
    "`"
   ]
  },
  {
   "cell_type": "code",
   "execution_count": null,
   "id": "bb13e178-dbc0-45b8-8a4d-848c44234e03",
   "metadata": {},
   "outputs": [],
   "source": []
  },
  {
   "cell_type": "markdown",
   "id": "67cbfe4e-1a60-4460-8cc1-e98ea9813fa8",
   "metadata": {},
   "source": [
    "#### Write three questions you would like to answer using this data"
   ]
  },
  {
   "cell_type": "markdown",
   "id": "4470f031-7d4f-4814-8f36-549be16c2eea",
   "metadata": {},
   "source": [
    "1. "
   ]
  },
  {
   "cell_type": "markdown",
   "id": "3f76efd8-a896-4758-a774-811abd08e9ab",
   "metadata": {},
   "source": [
    "2. "
   ]
  },
  {
   "cell_type": "markdown",
   "id": "b7972801-dab3-4405-9ac9-c025162d858d",
   "metadata": {},
   "source": [
    "3. "
   ]
  }
 ],
 "metadata": {
  "kernelspec": {
   "display_name": "Python 3 (ipykernel)",
   "language": "python",
   "name": "python3"
  },
  "language_info": {
   "codemirror_mode": {
    "name": "ipython",
    "version": 3
   },
   "file_extension": ".py",
   "mimetype": "text/x-python",
   "name": "python",
   "nbconvert_exporter": "python",
   "pygments_lexer": "ipython3",
   "version": "3.11.0"
  }
 },
 "nbformat": 4,
 "nbformat_minor": 5
}
