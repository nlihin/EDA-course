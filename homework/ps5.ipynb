{
 "cells": [
  {
   "cell_type": "markdown",
   "id": "801d618f-96b1-42b0-9004-ec3c22c537ab",
   "metadata": {
    "deletable": false,
    "editable": false,
    "nbgrader": {
     "cell_type": "markdown",
     "checksum": "492ef69afd2f728891924a63e2a2736c",
     "grade": false,
     "grade_id": "cell-85dc0721ca5459fd",
     "locked": true,
     "schema_version": 3,
     "solution": false,
     "task": false
    }
   },
   "source": [
    "<div style=\"color:white; border-radius:8px; background-color:#03112A; font-size:250%; letter-spacing:1.0px; padding: 1px; text-align: center;\">\n",
    "    <b>מטלה 5</b>\n",
    "</div>\n"
   ]
  },
  {
   "cell_type": "markdown",
   "id": "663ba59f-2137-46e8-ac04-0713c6892099",
   "metadata": {
    "deletable": false,
    "editable": false,
    "nbgrader": {
     "cell_type": "markdown",
     "checksum": "f03138e6ac47bcafd09ad93c98b8fd89",
     "grade": false,
     "grade_id": "cell-b5c38cb867564807",
     "locked": true,
     "schema_version": 3,
     "solution": false,
     "task": false
    }
   },
   "source": [
    "<div dir=\"rtl\">\n",
    "    \n",
    "### מטרת המטלה הינה לתרגל את החומר שנלמד בשיעור ובתרגול \n",
    "\n",
    "   - **שימו לב שהמחברת נבדקת אוטומטית - לכן עיבדו בדיוק לפי ההוראות**\n",
    "   - **אין למחוק תאים**\n",
    "   - **אין להוסיף תאים**\n",
    "   - **אין להגיש אף מחברת אחרת מכל סוג שהוא - יש להגיש את מחברת זו בלבד** \n",
    "       - **תא הגשת תשובתכם לשאלה נמצא תחת השאלה בתא עם הערה # YOUR CODE HERE**\n",
    "       - **מחקו את הקוד המצורף raise NotImplementedError(מחק.י אותי) והכניסו את תשובתכם**\n",
    "#### בהצלחה !\n",
    "</div>"
   ]
  },
  {
   "cell_type": "code",
   "execution_count": null,
   "id": "82295765-0349-48ef-81f9-85c5cc5ac451",
   "metadata": {},
   "outputs": [],
   "source": [
    "import numpy as np\n",
    "import pandas as pd\n",
    "import seaborn as sns\n",
    "import matplotlib.pyplot as plt"
   ]
  },
  {
   "cell_type": "code",
   "execution_count": null,
   "id": "a3e67d79-6547-4a88-b108-6e7ae07c1ff8",
   "metadata": {},
   "outputs": [],
   "source": [
    "df_path = \"https://raw.githubusercontent.com/nlihin/data-analytics/main/datasets/aircraft%20wildlife%20strikes%202018-2020.csv\"\n",
    "df = pd.read_csv(df_path)\n",
    "df['date'] = pd.to_datetime(df['INCIDENT_DATE'],format='%d/%m/%Y')\n",
    "df[\"weekday\"] = pd.DatetimeIndex(df['date']).strftime('%A')"
   ]
  },
  {
   "cell_type": "markdown",
   "id": "9a493c20-f861-44f3-a392-5235bc06779d",
   "metadata": {
    "deletable": false,
    "editable": false,
    "nbgrader": {
     "cell_type": "markdown",
     "checksum": "7b2b7480cd46c2fc8f5d33af073ebeff",
     "grade": false,
     "grade_id": "cell-55e7ef5f1e012048",
     "locked": true,
     "schema_version": 3,
     "solution": false,
     "task": false
    }
   },
   "source": [
    "<div style=\"color:#03112A; border-radius:8px; background-color:#d0e8ff; font-size:150%; letter-spacing:1.0px; padding: 1px; text-align: center;\">\n",
    "    <b>שאלה 1</b>\n",
    "</div>"
   ]
  },
  {
   "cell_type": "markdown",
   "id": "5b21193c-3192-4c93-bfd6-5434bee4fb58",
   "metadata": {
    "deletable": false,
    "editable": false,
    "nbgrader": {
     "cell_type": "markdown",
     "checksum": "5acc16b5c46ebf128c03930b94985143",
     "grade": false,
     "grade_id": "cell-33515b5af844ccdb",
     "locked": true,
     "schema_version": 3,
     "solution": false,
     "task": false
    }
   },
   "source": [
    "<div dir=\"rtl\" style=\"text-align: right;\">\n",
    "<div>\n",
    "השאלה נמצאת בקובץ המצורף \n",
    "</div>"
   ]
  },
  {
   "cell_type": "code",
   "execution_count": null,
   "id": "3da44d5a-b443-436a-b348-ca82d3b92c77",
   "metadata": {
    "deletable": false,
    "nbgrader": {
     "cell_type": "code",
     "checksum": "d0031f429953cac29bc29b2053ed7c3a",
     "grade": false,
     "grade_id": "cell-b9874de0f221bc9b",
     "locked": false,
     "schema_version": 3,
     "solution": true,
     "task": false
    }
   },
   "outputs": [],
   "source": [
    "#state_summary = \n",
    "\n",
    "# YOUR CODE HERE\n",
    "raise NotImplementedError(מחק.י אותי)\n"
   ]
  },
  {
   "cell_type": "code",
   "execution_count": null,
   "id": "04637120-9624-4df4-8999-52e6be6b1b3e",
   "metadata": {
    "deletable": false,
    "editable": false,
    "nbgrader": {
     "cell_type": "code",
     "checksum": "d85a102ac9e258bdca4d68c2cbabf458",
     "grade": true,
     "grade_id": "cell-5a24125c0975f24b",
     "locked": true,
     "points": 33,
     "schema_version": 3,
     "solution": false,
     "task": false
    }
   },
   "outputs": [],
   "source": [
    "# לא לכתוב או למחוק תא זה\n"
   ]
  },
  {
   "cell_type": "markdown",
   "id": "96d5401c-02c3-4a5c-a0be-5a6cd731aa5b",
   "metadata": {
    "deletable": false,
    "editable": false,
    "nbgrader": {
     "cell_type": "markdown",
     "checksum": "12158e5277caa19e34c6ce20e1f9ad7c",
     "grade": false,
     "grade_id": "cell-7d6bfb159f07a92b",
     "locked": true,
     "schema_version": 3,
     "solution": false,
     "task": false
    }
   },
   "source": [
    "<div style=\"color:#03112A; border-radius:8px; background-color:#d0e8ff; font-size:150%; letter-spacing:1.0px; padding: 1px; text-align: center;\">\n",
    "    <b>שאלה 2</b>\n",
    "</div>"
   ]
  },
  {
   "cell_type": "markdown",
   "id": "41fc7c46-a561-48a2-a084-166cd1929944",
   "metadata": {
    "deletable": false,
    "editable": false,
    "nbgrader": {
     "cell_type": "markdown",
     "checksum": "38cf98aa05220f4f8442807bebe8c722",
     "grade": false,
     "grade_id": "cell-77f7f70706a60034",
     "locked": true,
     "schema_version": 3,
     "solution": false,
     "task": false
    }
   },
   "source": [
    "<div dir=\"rtl\" style=\"text-align: right;\">\n",
    "<div>\n",
    "השאלה נמצאת בקובץ המצורף\n",
    "</div>"
   ]
  },
  {
   "cell_type": "code",
   "execution_count": null,
   "id": "8f2edeed-88a7-44ea-bcc0-a1087f79fb4e",
   "metadata": {
    "deletable": false,
    "nbgrader": {
     "cell_type": "code",
     "checksum": "26a6718f3658a642ae9667e0bfa3900f",
     "grade": false,
     "grade_id": "cell-2f2ca133682f98ef",
     "locked": false,
     "schema_version": 3,
     "solution": true,
     "task": false
    }
   },
   "outputs": [],
   "source": [
    "#MD_index = \n",
    "\n",
    "# YOUR CODE HERE\n",
    "raise NotImplementedError(מחק.י אותי)\n"
   ]
  },
  {
   "cell_type": "code",
   "execution_count": null,
   "id": "4c80051b-0249-4d46-a023-53648abb0c37",
   "metadata": {
    "deletable": false,
    "editable": false,
    "nbgrader": {
     "cell_type": "code",
     "checksum": "178761bec015b5acfa290b0caad7dd93",
     "grade": true,
     "grade_id": "cell-a0e9b527e95e3a5c",
     "locked": true,
     "points": 33,
     "schema_version": 3,
     "solution": false,
     "task": false
    }
   },
   "outputs": [],
   "source": [
    "# לא לכתוב או למחוק תא זה\n"
   ]
  },
  {
   "cell_type": "markdown",
   "id": "4e3265d5-3c99-46d8-b604-01fb389cb49c",
   "metadata": {
    "deletable": false,
    "editable": false,
    "nbgrader": {
     "cell_type": "markdown",
     "checksum": "2781669778992b6398f2c79b1171c39a",
     "grade": false,
     "grade_id": "cell-f15fab583ce1b348",
     "locked": true,
     "schema_version": 3,
     "solution": false,
     "task": false
    }
   },
   "source": [
    "<div style=\"color:#03112A; border-radius:8px; background-color:#d0e8ff; font-size:150%; letter-spacing:1.0px; padding: 1px; text-align: center;\">\n",
    "    <b>שאלה 3</b>\n",
    "</div>"
   ]
  },
  {
   "cell_type": "markdown",
   "id": "6332435f-104f-493c-8a18-8e5f3449ea8e",
   "metadata": {
    "deletable": false,
    "editable": false,
    "nbgrader": {
     "cell_type": "markdown",
     "checksum": "3d83cbe61730a493fbf30ad571ffd36f",
     "grade": false,
     "grade_id": "cell-3873b2ba277074e2",
     "locked": true,
     "schema_version": 3,
     "solution": false,
     "task": false
    }
   },
   "source": [
    "<div dir=\"rtl\" style=\"text-align: right;\">\n",
    "<div>\n",
    "השאלה נמצאת בקובץ המצורף\n",
    "</div>"
   ]
  },
  {
   "cell_type": "code",
   "execution_count": null,
   "id": "6cc80b50-3c67-4249-a1fc-8932a113f7b4",
   "metadata": {
    "deletable": false,
    "nbgrader": {
     "cell_type": "code",
     "checksum": "ad84b36d6afef4db1ee8c59d8b795ac2",
     "grade": false,
     "grade_id": "cell-408035fa6e9dd3fa",
     "locked": false,
     "schema_version": 3,
     "solution": true,
     "task": false
    }
   },
   "outputs": [],
   "source": [
    "#strike_dates = \n",
    "\n",
    "#strike_dates = strike_dates.reset_index()\n",
    "#strike_dates = strike_dates.droplevel(0, axis=1) \n",
    "\n",
    "\n",
    "# YOUR CODE HERE\n",
    "raise NotImplementedError(מחק.י אותי)"
   ]
  },
  {
   "cell_type": "code",
   "execution_count": null,
   "id": "204d603e-3fdf-46d9-a223-45585e80b76e",
   "metadata": {
    "deletable": false,
    "editable": false,
    "nbgrader": {
     "cell_type": "code",
     "checksum": "b9f35e09a4617223abcfd2d2436a7e9c",
     "grade": true,
     "grade_id": "cell-74c1209fb49b31c9",
     "locked": true,
     "points": 34,
     "schema_version": 3,
     "solution": false,
     "task": false
    }
   },
   "outputs": [],
   "source": [
    "# לא לכתוב או למחוק תא זה"
   ]
  }
 ],
 "metadata": {
  "kernelspec": {
   "display_name": "Python 3 (ipykernel)",
   "language": "python",
   "name": "python3"
  },
  "language_info": {
   "codemirror_mode": {
    "name": "ipython",
    "version": 3
   },
   "file_extension": ".py",
   "mimetype": "text/x-python",
   "name": "python",
   "nbconvert_exporter": "python",
   "pygments_lexer": "ipython3",
   "version": "3.13.0"
  }
 },
 "nbformat": 4,
 "nbformat_minor": 5
}
