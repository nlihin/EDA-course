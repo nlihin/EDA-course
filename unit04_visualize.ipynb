{
 "cells": [
  {
   "cell_type": "markdown",
   "metadata": {},
   "source": [
    "# Unit 4 - Descriptive visualization of the data\n",
    "---\n",
    "\n",
    "1. [Boxplots](#section1)\n",
    "2. [Histograms](#section2)\n",
    "3. [Scatterplots](#section3)\n",
    "4. [Same stats, different graphs](#section4)\n",
    "\n"
   ]
  },
  {
   "cell_type": "markdown",
   "metadata": {},
   "source": [
    "Introducing an additional library: [seaborn](https://seaborn.pydata.org/) - for statistical data visualization\\\n",
    "Behind the scenes, seaborn uses matplotlib to draw its plots.\\\n",
    "[matplotlib.pyplot](https://matplotlib.org/stable/api/pyplot_summary.html#module-matplotlib.pyplot) is the GUI manager of the figure. \n"
   ]
  },
  {
   "cell_type": "code",
   "execution_count": 1,
   "metadata": {},
   "outputs": [],
   "source": [
    "import pandas as pd\n",
    "import numpy as np\n",
    "import matplotlib.pyplot as plt  #for reshaping graph size\n",
    "import seaborn as sns  # for creating the graphs"
   ]
  },
  {
   "cell_type": "markdown",
   "metadata": {
    "tags": []
   },
   "source": [
    "<a id='section1'></a>\n",
    "## 1. Boxplots \n",
    "\n",
    "What are they good for? Let's look at an example with the Titanic dataset"
   ]
  },
  {
   "cell_type": "markdown",
   "metadata": {
    "tags": []
   },
   "source": [
    "#### Titanic dataset"
   ]
  },
  {
   "cell_type": "code",
   "execution_count": 2,
   "metadata": {},
   "outputs": [],
   "source": [
    "titanic_df = sns.load_dataset('titanic')"
   ]
  },
  {
   "cell_type": "code",
   "execution_count": null,
   "metadata": {},
   "outputs": [],
   "source": [
    "titanic_df.shape"
   ]
  },
  {
   "cell_type": "code",
   "execution_count": null,
   "metadata": {},
   "outputs": [],
   "source": [
    "titanic_df.head()"
   ]
  },
  {
   "cell_type": "markdown",
   "metadata": {},
   "source": [
    "#### We would like to vizualize the passengers `age`"
   ]
  },
  {
   "cell_type": "markdown",
   "metadata": {
    "tags": []
   },
   "source": [
    "##### Attempt #1: With `scatterplot`\n",
    "\n",
    "The figure size is set using matplotlib, but there are other ways. See [this](https://stackoverflow.com/questions/31594549/how-to-change-the-figure-size-of-a-seaborn-axes-or-figure-level-plot) highly voted question on stackoverflow.\n"
   ]
  },
  {
   "cell_type": "code",
   "execution_count": null,
   "metadata": {},
   "outputs": [],
   "source": [
    "plt.figure(figsize=(4,3))  #figure size\n",
    "sns.scatterplot(data = titanic_df[['age']])"
   ]
  },
  {
   "cell_type": "markdown",
   "metadata": {},
   "source": [
    "This is the raw data:\n",
    "\n",
    "axis x - the 891 passangers \n",
    "\n",
    "axis y - the age of each passenger\n",
    "\n",
    "This is not informative"
   ]
  },
  {
   "cell_type": "markdown",
   "metadata": {
    "tags": []
   },
   "source": [
    "##### Attempt #2: With `lineplot`"
   ]
  },
  {
   "cell_type": "code",
   "execution_count": null,
   "metadata": {},
   "outputs": [],
   "source": [
    "plt.figure(figsize=(6,3))\n",
    "g = sns.lineplot(data = titanic_df[['age']])"
   ]
  },
  {
   "cell_type": "markdown",
   "metadata": {},
   "source": [
    "##### Attempt #3:`boxplot`"
   ]
  },
  {
   "cell_type": "code",
   "execution_count": null,
   "metadata": {},
   "outputs": [],
   "source": [
    "plt.figure(figsize=(2,5))\n",
    "g = sns.boxplot(data = titanic_df[['age' ]])"
   ]
  },
  {
   "cell_type": "markdown",
   "metadata": {},
   "source": [
    "We can save the figure using [savefig](https://matplotlib.org/3.1.1/api/_as_gen/matplotlib.pyplot.savefig.html) if we want to use it later.\\\n",
    "`bbox_inches` - only the given portion of the figure is saved. If 'tight', create a tight box around the figure. Try removing tight and see the difference. "
   ]
  },
  {
   "cell_type": "code",
   "execution_count": null,
   "metadata": {},
   "outputs": [],
   "source": [
    "g.figure.savefig(\"boxplot.png\", bbox_inches='tight')"
   ]
  },
  {
   "cell_type": "markdown",
   "metadata": {},
   "source": [
    "<div>\n",
    "<img src=\"https://raw.githubusercontent.com/nlihin/data-analytics/main/images/boxplot.png\" width=\"600\"/>\n",
    "</div>"
   ]
  },
  {
   "cell_type": "markdown",
   "metadata": {},
   "source": [
    "The data seems fine. What would we think if we had the outliers under the bottom whisker?"
   ]
  },
  {
   "cell_type": "markdown",
   "metadata": {},
   "source": [
    "Data from a project in 2022. Israel vs. the world."
   ]
  },
  {
   "cell_type": "markdown",
   "metadata": {},
   "source": [
    "<div>\n",
    "<img src=\"https://raw.githubusercontent.com/nlihin/data-analytics/main/images/graze%20%20footprints.png\" width=\"800\"/>\n",
    "</div>\n",
    "\n"
   ]
  },
  {
   "cell_type": "markdown",
   "metadata": {},
   "source": [
    "<a id='section2'></a>"
   ]
  },
  {
   "cell_type": "markdown",
   "metadata": {},
   "source": [
    "### Vaccination data:"
   ]
  },
  {
   "cell_type": "code",
   "execution_count": 4,
   "metadata": {},
   "outputs": [
    {
     "data": {
      "text/html": [
       "<div>\n",
       "<style scoped>\n",
       "    .dataframe tbody tr th:only-of-type {\n",
       "        vertical-align: middle;\n",
       "    }\n",
       "\n",
       "    .dataframe tbody tr th {\n",
       "        vertical-align: top;\n",
       "    }\n",
       "\n",
       "    .dataframe thead th {\n",
       "        text-align: right;\n",
       "    }\n",
       "</style>\n",
       "<table border=\"1\" class=\"dataframe\">\n",
       "  <thead>\n",
       "    <tr style=\"text-align: right;\">\n",
       "      <th></th>\n",
       "      <th>location</th>\n",
       "      <th>iso_code</th>\n",
       "      <th>date</th>\n",
       "      <th>total_vaccinations</th>\n",
       "      <th>people_vaccinated</th>\n",
       "      <th>people_fully_vaccinated</th>\n",
       "      <th>total_boosters</th>\n",
       "      <th>daily_vaccinations_raw</th>\n",
       "      <th>daily_vaccinations</th>\n",
       "      <th>total_vaccinations_per_hundred</th>\n",
       "      <th>people_vaccinated_per_hundred</th>\n",
       "      <th>people_fully_vaccinated_per_hundred</th>\n",
       "      <th>total_boosters_per_hundred</th>\n",
       "      <th>daily_vaccinations_per_million</th>\n",
       "      <th>daily_people_vaccinated</th>\n",
       "      <th>daily_people_vaccinated_per_hundred</th>\n",
       "    </tr>\n",
       "  </thead>\n",
       "  <tbody>\n",
       "    <tr>\n",
       "      <th>0</th>\n",
       "      <td>Afghanistan</td>\n",
       "      <td>AFG</td>\n",
       "      <td>2021-02-22</td>\n",
       "      <td>0.0</td>\n",
       "      <td>0.0</td>\n",
       "      <td>NaN</td>\n",
       "      <td>NaN</td>\n",
       "      <td>NaN</td>\n",
       "      <td>NaN</td>\n",
       "      <td>0.0</td>\n",
       "      <td>0.0</td>\n",
       "      <td>NaN</td>\n",
       "      <td>NaN</td>\n",
       "      <td>NaN</td>\n",
       "      <td>NaN</td>\n",
       "      <td>NaN</td>\n",
       "    </tr>\n",
       "    <tr>\n",
       "      <th>1</th>\n",
       "      <td>Afghanistan</td>\n",
       "      <td>AFG</td>\n",
       "      <td>2021-02-23</td>\n",
       "      <td>NaN</td>\n",
       "      <td>NaN</td>\n",
       "      <td>NaN</td>\n",
       "      <td>NaN</td>\n",
       "      <td>NaN</td>\n",
       "      <td>1367.0</td>\n",
       "      <td>NaN</td>\n",
       "      <td>NaN</td>\n",
       "      <td>NaN</td>\n",
       "      <td>NaN</td>\n",
       "      <td>33.0</td>\n",
       "      <td>1367.0</td>\n",
       "      <td>0.003</td>\n",
       "    </tr>\n",
       "    <tr>\n",
       "      <th>2</th>\n",
       "      <td>Afghanistan</td>\n",
       "      <td>AFG</td>\n",
       "      <td>2021-02-24</td>\n",
       "      <td>NaN</td>\n",
       "      <td>NaN</td>\n",
       "      <td>NaN</td>\n",
       "      <td>NaN</td>\n",
       "      <td>NaN</td>\n",
       "      <td>1367.0</td>\n",
       "      <td>NaN</td>\n",
       "      <td>NaN</td>\n",
       "      <td>NaN</td>\n",
       "      <td>NaN</td>\n",
       "      <td>33.0</td>\n",
       "      <td>1367.0</td>\n",
       "      <td>0.003</td>\n",
       "    </tr>\n",
       "    <tr>\n",
       "      <th>3</th>\n",
       "      <td>Afghanistan</td>\n",
       "      <td>AFG</td>\n",
       "      <td>2021-02-25</td>\n",
       "      <td>NaN</td>\n",
       "      <td>NaN</td>\n",
       "      <td>NaN</td>\n",
       "      <td>NaN</td>\n",
       "      <td>NaN</td>\n",
       "      <td>1367.0</td>\n",
       "      <td>NaN</td>\n",
       "      <td>NaN</td>\n",
       "      <td>NaN</td>\n",
       "      <td>NaN</td>\n",
       "      <td>33.0</td>\n",
       "      <td>1367.0</td>\n",
       "      <td>0.003</td>\n",
       "    </tr>\n",
       "    <tr>\n",
       "      <th>4</th>\n",
       "      <td>Afghanistan</td>\n",
       "      <td>AFG</td>\n",
       "      <td>2021-02-26</td>\n",
       "      <td>NaN</td>\n",
       "      <td>NaN</td>\n",
       "      <td>NaN</td>\n",
       "      <td>NaN</td>\n",
       "      <td>NaN</td>\n",
       "      <td>1367.0</td>\n",
       "      <td>NaN</td>\n",
       "      <td>NaN</td>\n",
       "      <td>NaN</td>\n",
       "      <td>NaN</td>\n",
       "      <td>33.0</td>\n",
       "      <td>1367.0</td>\n",
       "      <td>0.003</td>\n",
       "    </tr>\n",
       "  </tbody>\n",
       "</table>\n",
       "</div>"
      ],
      "text/plain": [
       "      location iso_code        date  total_vaccinations  people_vaccinated  \\\n",
       "0  Afghanistan      AFG  2021-02-22                 0.0                0.0   \n",
       "1  Afghanistan      AFG  2021-02-23                 NaN                NaN   \n",
       "2  Afghanistan      AFG  2021-02-24                 NaN                NaN   \n",
       "3  Afghanistan      AFG  2021-02-25                 NaN                NaN   \n",
       "4  Afghanistan      AFG  2021-02-26                 NaN                NaN   \n",
       "\n",
       "   people_fully_vaccinated  total_boosters  daily_vaccinations_raw  \\\n",
       "0                      NaN             NaN                     NaN   \n",
       "1                      NaN             NaN                     NaN   \n",
       "2                      NaN             NaN                     NaN   \n",
       "3                      NaN             NaN                     NaN   \n",
       "4                      NaN             NaN                     NaN   \n",
       "\n",
       "   daily_vaccinations  total_vaccinations_per_hundred  \\\n",
       "0                 NaN                             0.0   \n",
       "1              1367.0                             NaN   \n",
       "2              1367.0                             NaN   \n",
       "3              1367.0                             NaN   \n",
       "4              1367.0                             NaN   \n",
       "\n",
       "   people_vaccinated_per_hundred  people_fully_vaccinated_per_hundred  \\\n",
       "0                            0.0                                  NaN   \n",
       "1                            NaN                                  NaN   \n",
       "2                            NaN                                  NaN   \n",
       "3                            NaN                                  NaN   \n",
       "4                            NaN                                  NaN   \n",
       "\n",
       "   total_boosters_per_hundred  daily_vaccinations_per_million  \\\n",
       "0                         NaN                             NaN   \n",
       "1                         NaN                            33.0   \n",
       "2                         NaN                            33.0   \n",
       "3                         NaN                            33.0   \n",
       "4                         NaN                            33.0   \n",
       "\n",
       "   daily_people_vaccinated  daily_people_vaccinated_per_hundred  \n",
       "0                      NaN                                  NaN  \n",
       "1                   1367.0                                0.003  \n",
       "2                   1367.0                                0.003  \n",
       "3                   1367.0                                0.003  \n",
       "4                   1367.0                                0.003  "
      ]
     },
     "execution_count": 4,
     "metadata": {},
     "output_type": "execute_result"
    }
   ],
   "source": [
    "url = 'https://raw.githubusercontent.com/owid/covid-19-data/master/public/data/vaccinations/vaccinations.csv'\n",
    "vacc_df = pd.read_csv(url) \n",
    "vacc_df.head()"
   ]
  },
  {
   "cell_type": "markdown",
   "metadata": {},
   "source": [
    "use a groupby and look at part of the data, by location:"
   ]
  },
  {
   "cell_type": "code",
   "execution_count": null,
   "metadata": {},
   "outputs": [],
   "source": [
    "grouped_df = vacc_df.groupby('location')[['daily_vaccinations','people_fully_vaccinated_per_hundred'\\\n",
    "                                          ,'total_boosters_per_hundred']].max()\n",
    "grouped_df = grouped_df.reset_index()\n",
    "grouped_df"
   ]
  },
  {
   "cell_type": "markdown",
   "metadata": {},
   "source": [
    "#### sort the values using 'sort_values()`"
   ]
  },
  {
   "cell_type": "code",
   "execution_count": null,
   "metadata": {},
   "outputs": [],
   "source": [
    "grouped_df.sort_values('people_fully_vaccinated_per_hundred', ascending = False).head(10)"
   ]
  },
  {
   "cell_type": "markdown",
   "metadata": {},
   "source": [
    "### <span style=\"color:blue\"> Exercise:</span>\n",
    "> For the data in `grouped_df`:\n",
    ">\n",
    "> display a scatterplot for `total_boosters_per_hundred`\n",
    ">\n",
    "> display a boxplot for two `total_boosters_per_hundred` and `people_fully_vaccinated_per_hundred` in the **same** boxplot"
   ]
  },
  {
   "cell_type": "code",
   "execution_count": null,
   "metadata": {},
   "outputs": [],
   "source": []
  },
  {
   "cell_type": "code",
   "execution_count": null,
   "metadata": {},
   "outputs": [],
   "source": []
  },
  {
   "cell_type": "markdown",
   "metadata": {},
   "source": [
    "**It's not perfect. Or else we would have had outliers for any number over a 100.**"
   ]
  },
  {
   "cell_type": "markdown",
   "metadata": {},
   "source": [
    "<a id='section3'></a>"
   ]
  },
  {
   "cell_type": "markdown",
   "metadata": {
    "tags": []
   },
   "source": [
    "<a id='section2'></a>\n",
    "## 2. Histograms"
   ]
  },
  {
   "attachments": {},
   "cell_type": "markdown",
   "metadata": {},
   "source": [
    "Why use histograms? \\\n",
    "Boxplots display summary statistics, but they don't tell us much about the distribution shape. \\\n",
    "We use histograms to show the shape. \n",
    "\n",
    "<div>\n",
    "<center><img src=\"https://github.com/nlihin/data-analytics/blob/main/images/distribution%20shapes.png?raw=true\" width=\"500\"/>\n",
    "    <p style=\"text-align: center;\"><em>O'Niel and Schutt. Doing data science: Straight talk from the frontline. O'Rielly Meida, Inc. 2013. </em></p></center>\n",
    "</div>\n"
   ]
  },
  {
   "cell_type": "markdown",
   "metadata": {},
   "source": [
    "Histograms can show the number (count), percentage, probability or density"
   ]
  },
  {
   "cell_type": "code",
   "execution_count": 8,
   "metadata": {},
   "outputs": [
    {
     "data": {
      "text/plain": [
       "<AxesSubplot: xlabel='age', ylabel='Density'>"
      ]
     },
     "execution_count": 8,
     "metadata": {},
     "output_type": "execute_result"
    },
    {
     "data": {
      "image/png": "[encoded data removed]",
      "text/plain": [
       "<Figure size 1000x500 with 4 Axes>"
      ]
     },
     "metadata": {},
     "output_type": "display_data"
    }
   ],
   "source": [
    "fig, ax = plt.subplots(2,2, figsize = (10,5))\n",
    "plt.subplots_adjust(wspace = 0.5)\n",
    "\n",
    "sns.histplot(titanic_df, x ='age', ax = ax[0,0])\n",
    "sns.histplot(data=titanic_df, x='age', stat='percent', ax = ax[0,1])\n",
    "sns.histplot(data=titanic_df, x='age', stat='probability', ax = ax[1,0])\n",
    "sns.histplot(data=titanic_df, x='age', stat='density', ax = ax[1,1])"
   ]
  },
  {
   "cell_type": "markdown",
   "metadata": {},
   "source": [
    "The shape won't change as long as the number of bins doesn't change. \n",
    "Change the number of bins:"
   ]
  },
  {
   "cell_type": "code",
   "execution_count": 24,
   "metadata": {},
   "outputs": [
    {
     "data": {
      "text/plain": [
       "<AxesSubplot: xlabel='age', ylabel='Percent'>"
      ]
     },
     "execution_count": 24,
     "metadata": {},
     "output_type": "execute_result"
    },
    {
     "data": {
      "image/png": "[encoded data removed]",
      "text/plain": [
       "<Figure size 400x300 with 1 Axes>"
      ]
     },
     "metadata": {},
     "output_type": "display_data"
    }
   ],
   "source": [
    "plt.figure(figsize=(4,3))\n",
    "sns.histplot(data=titanic_df, x='age', stat='percent', bins=10)"
   ]
  },
  {
   "cell_type": "markdown",
   "metadata": {},
   "source": [
    "Histograms of males and females:"
   ]
  },
  {
   "cell_type": "code",
   "execution_count": 25,
   "metadata": {},
   "outputs": [
    {
     "data": {
      "text/plain": [
       "<AxesSubplot: xlabel='age', ylabel='Percent'>"
      ]
     },
     "execution_count": 25,
     "metadata": {},
     "output_type": "execute_result"
    },
    {
     "data": {
      "image/png": "[encoded data removed]",
      "text/plain": [
       "<Figure size 400x300 with 1 Axes>"
      ]
     },
     "metadata": {},
     "output_type": "display_data"
    }
   ],
   "source": [
    "plt.figure(figsize=(4,3))\n",
    "sns.histplot(data=titanic_df[titanic_df.sex == 'male'], x='age', stat='percent', bins=20)"
   ]
  },
  {
   "cell_type": "markdown",
   "metadata": {},
   "source": [
    "---\n",
    "### <span style=\"color:blue\"> Exercise:</span>\n",
    ">\n",
    "> Create a histogram for the age of female passengers on the Titanic\n",
    ">\n",
    "> This histogram doesn't have the same number of bins as the histogram of males. Any idea why?"
   ]
  },
  {
   "cell_type": "code",
   "execution_count": 26,
   "metadata": {},
   "outputs": [],
   "source": [
    "# first - filter so you have the females:\n",
    "#female_df = YOUR CODE HERE"
   ]
  },
  {
   "cell_type": "code",
   "execution_count": 9,
   "metadata": {},
   "outputs": [
    {
     "data": {
      "text/plain": [
       "<Figure size 400x300 with 0 Axes>"
      ]
     },
     "execution_count": 9,
     "metadata": {},
     "output_type": "execute_result"
    },
    {
     "data": {
      "text/plain": [
       "<Figure size 400x300 with 0 Axes>"
      ]
     },
     "metadata": {},
     "output_type": "display_data"
    }
   ],
   "source": [
    "plt.figure(figsize=(4,3))\n",
    "#YOUR CODE HERE"
   ]
  },
  {
   "cell_type": "markdown",
   "metadata": {},
   "source": []
  },
  {
   "cell_type": "markdown",
   "metadata": {},
   "source": [
    "---\n",
    "### <span style=\"color:blue\"> Exercise:</span>\n",
    "> Create two histograms, one for males and one for females, with the **same** number of bins\n",
    ">"
   ]
  },
  {
   "cell_type": "code",
   "execution_count": 10,
   "metadata": {},
   "outputs": [
    {
     "data": {
      "image/png": "[encoded data removed]",
      "text/plain": [
       "<Figure size 800x300 with 2 Axes>"
      ]
     },
     "metadata": {},
     "output_type": "display_data"
    }
   ],
   "source": [
    "fig, ax = plt.subplots(1,2, figsize = (8,3))\n",
    "#YOUR CODE HERE"
   ]
  },
  {
   "cell_type": "markdown",
   "metadata": {},
   "source": [
    "Both sexs on the same graph:"
   ]
  },
  {
   "cell_type": "code",
   "execution_count": 30,
   "metadata": {},
   "outputs": [
    {
     "data": {
      "image/png": "[encoded data removed]",
      "text/plain": [
       "<Figure size 400x300 with 1 Axes>"
      ]
     },
     "metadata": {},
     "output_type": "display_data"
    }
   ],
   "source": [
    "plt.figure(figsize=(4,3))\n",
    "sns.histplot(data=titanic_df, x='age', stat='percent', hue='sex', multiple = 'layer' )\n",
    "plt.show()"
   ]
  },
  {
   "cell_type": "markdown",
   "metadata": {},
   "source": [
    "---\n",
    "### <span style=\"color:blue\"> Exercise:</span>\n",
    ">\n",
    "> try other options:\n",
    ">\n",
    "> `multiple{“layer”, “dodge”, “stack”, “fill”}`\n",
    ">\n",
    "> what is the default?\n",
    ">\n",
    "> create a histogram for `total_boosters_per_hundred` for our `grouped_df` dataframe\n"
   ]
  },
  {
   "cell_type": "code",
   "execution_count": null,
   "metadata": {},
   "outputs": [],
   "source": [
    "plt.figure(figsize=(4,3))\n",
    "sns.histplot(data=titanic_df, x='age', stat='percent', hue='sex', multiple = '...' )\n",
    "plt.show()"
   ]
  },
  {
   "cell_type": "code",
   "execution_count": null,
   "metadata": {},
   "outputs": [],
   "source": [
    "\n"
   ]
  },
  {
   "cell_type": "code",
   "execution_count": null,
   "metadata": {},
   "outputs": [],
   "source": []
  },
  {
   "cell_type": "markdown",
   "metadata": {},
   "source": [
    "---"
   ]
  },
  {
   "cell_type": "markdown",
   "metadata": {},
   "source": [
    "<a id='section4'></a>"
   ]
  },
  {
   "cell_type": "markdown",
   "metadata": {},
   "source": [
    "<a id='section3'></a>\n",
    "## 3. Scatterplots"
   ]
  },
  {
   "cell_type": "markdown",
   "metadata": {},
   "source": [
    "Read the pickled file you saved on your PC at the end of unit 3 (last lesson):"
   ]
  },
  {
   "cell_type": "code",
   "execution_count": 11,
   "metadata": {},
   "outputs": [],
   "source": [
    "strike_df = pd.read_pickle(\"pickled_strike\")"
   ]
  },
  {
   "cell_type": "markdown",
   "metadata": {},
   "source": [
    "If you haven't, then un-comment the below:"
   ]
  },
  {
   "cell_type": "code",
   "execution_count": 3,
   "metadata": {},
   "outputs": [],
   "source": [
    "# url1 = 'https://raw.githubusercontent.com/nlihin/data-analytics/main/datasets/aircraft%20wildlife%20strikes%202018-2020.csv'\n",
    "# url2 = 'https://raw.githubusercontent.com/nlihin/data-analytics/main/datasets/aircraft%20wildlife%20strikes%202021-2023.csv'\n",
    "# strike_df_18_20 = pd.read_csv(url1)\n",
    "# strike_df_21_23 = pd.read_csv(url2)\n",
    "# strike_df = pd.concat([strike_df_18_20 ,strike_df_21_23]).reset_index(drop = True)\n",
    "# strike_df['date'] = pd.to_datetime(strike_df['INCIDENT_DATE'],format='%d/%m/%Y')\n",
    "# strike_df['month'] = pd.DatetimeIndex(strike_df['date']).month\n",
    "# strike_df['year'] = pd.DatetimeIndex(strike_df['date']).year\n",
    "# strike_df[\"people_impact\"] = strike_df[['NR_INJURIES', 'NR_FATALITIES']].sum(axis=1)"
   ]
  },
  {
   "cell_type": "code",
   "execution_count": null,
   "metadata": {},
   "outputs": [],
   "source": [
    "strike_df.head()"
   ]
  },
  {
   "cell_type": "code",
   "execution_count": null,
   "metadata": {},
   "outputs": [],
   "source": [
    "strike_df.shape"
   ]
  },
  {
   "cell_type": "code",
   "execution_count": null,
   "metadata": {},
   "outputs": [],
   "source": [
    "sns.regplot(data = strike_df, y = \"SPEED\", x = \"HEIGHT\")"
   ]
  },
  {
   "cell_type": "markdown",
   "metadata": {},
   "source": [
    "All of these are numeric features:"
   ]
  },
  {
   "cell_type": "code",
   "execution_count": 63,
   "metadata": {},
   "outputs": [],
   "source": [
    "numeric_features = ['HEIGHT', 'SPEED', 'AC_MASS']\n",
    "target_features = ['AircraftOutOfService','people_impact','struck_parts', 'damaged_parts']"
   ]
  },
  {
   "cell_type": "markdown",
   "metadata": {},
   "source": [
    "All of these are categorical features:"
   ]
  },
  {
   "cell_type": "code",
   "execution_count": 64,
   "metadata": {},
   "outputs": [],
   "source": [
    "categorical_features = ['WARNED','PHASE_OF_FLIGHT','SKY','TIME_OF_DAY']"
   ]
  },
  {
   "cell_type": "markdown",
   "metadata": {},
   "source": [
    "Let's see how we can plot them  \n",
    "Barplots are good for categorical features  \n",
    "Hitograms and boxplots are good for numeric features"
   ]
  },
  {
   "cell_type": "code",
   "execution_count": null,
   "metadata": {},
   "outputs": [],
   "source": [
    "sns.barplot(data=strike_df, x = \"WARNED\", y = \"struck_parts\")"
   ]
  },
  {
   "cell_type": "markdown",
   "metadata": {},
   "source": [
    "#### Lets look at some of the numeric features:"
   ]
  },
  {
   "cell_type": "code",
   "execution_count": null,
   "metadata": {},
   "outputs": [],
   "source": [
    "fig, axes = plt.subplots(figsize=(12, 3), ncols=4)\n",
    "sns.boxplot(data=strike_df[['HEIGHT']], ax = axes[0])\n",
    "sns.boxplot(data=strike_df[['SPEED']], ax = axes[1])\n",
    "sns.boxplot(data=strike_df[['AC_MASS']], ax = axes[2])\n",
    "sns.boxplot(data=strike_df[['AircraftOutOfService']], ax = axes[3])\n",
    "plt.tight_layout()\n",
    "plt.show()"
   ]
  },
  {
   "cell_type": "code",
   "execution_count": null,
   "metadata": {},
   "outputs": [],
   "source": [
    "fig, axs = plt.subplots(ncols=3, figsize=(12, 3))\n",
    "for i, feature in enumerate(numeric_features):\n",
    "    sns.histplot(data=strike_df[feature], ax=axs[i], bins=20)\n",
    "   \n",
    "plt.tight_layout()\n",
    "plt.show()"
   ]
  },
  {
   "cell_type": "markdown",
   "metadata": {},
   "source": [
    "<a id='section4'></a>\n",
    "## 4. Same stats, different graphs"
   ]
  },
  {
   "cell_type": "code",
   "execution_count": 31,
   "metadata": {},
   "outputs": [],
   "source": [
    "url = 'https://raw.githubusercontent.com/nlihin/data-analytics/main/datasets/DatasaurusDozen.tsv'"
   ]
  },
  {
   "cell_type": "code",
   "execution_count": 32,
   "metadata": {},
   "outputs": [],
   "source": [
    "df = pd.read_csv(url, sep='\\t')"
   ]
  },
  {
   "cell_type": "code",
   "execution_count": null,
   "metadata": {},
   "outputs": [],
   "source": [
    "df.head(15)"
   ]
  },
  {
   "cell_type": "markdown",
   "metadata": {},
   "source": [
    "Dataset names:"
   ]
  },
  {
   "cell_type": "code",
   "execution_count": null,
   "metadata": {},
   "outputs": [],
   "source": [
    "df['dataset'].unique()"
   ]
  },
  {
   "cell_type": "markdown",
   "metadata": {},
   "source": [
    "Dataset statistics"
   ]
  },
  {
   "cell_type": "code",
   "execution_count": null,
   "metadata": {},
   "outputs": [],
   "source": [
    "df.groupby('dataset').agg(['count', 'mean', 'std'])"
   ]
  },
  {
   "cell_type": "markdown",
   "metadata": {},
   "source": [
    "What can you say about the mean, std, and number of points in each dataset?"
   ]
  },
  {
   "cell_type": "markdown",
   "metadata": {},
   "source": [
    "---\n",
    "### <span style=\"color:blue\"> Exercise:</span>\n",
    ">\n",
    "> Create 3 boxplot figures. For : `dataset == 'slant_down'` `dataset == 'star'` `dataset == 'circle'`"
   ]
  },
  {
   "cell_type": "code",
   "execution_count": null,
   "metadata": {},
   "outputs": [],
   "source": [
    "fig, ax = plt.subplots(1,3, figsize = (12,4))\n",
    "plt.subplots_adjust(wspace = 0.5)\n",
    "\n",
    "# your code here"
   ]
  },
  {
   "cell_type": "markdown",
   "metadata": {},
   "source": [
    "Lets display the histograms, but do it in a better way, using FacetGrid"
   ]
  },
  {
   "cell_type": "markdown",
   "metadata": {},
   "source": [
    "FacetGrid is designed to split your data in several categories and plot the same relationship with the same plotting function across all categories for easy comparison"
   ]
  },
  {
   "cell_type": "code",
   "execution_count": null,
   "metadata": {},
   "outputs": [],
   "source": [
    "g = sns.FacetGrid(df, col=\"dataset\", hue=\"dataset\", col_wrap=4, height = 2)\n",
    "g.map(sns.histplot, 'x')\n",
    "plt.show()"
   ]
  },
  {
   "cell_type": "markdown",
   "metadata": {},
   "source": [
    "The same, but with scatterplots instead of histplots"
   ]
  },
  {
   "cell_type": "code",
   "execution_count": null,
   "metadata": {},
   "outputs": [],
   "source": [
    "g = sns.FacetGrid(df, col=\"dataset\", hue=\"dataset\", col_wrap=4, height =2)\n",
    "g.map(sns.scatterplot, \"x\", \"y\")\n",
    "plt.show()"
   ]
  },
  {
   "cell_type": "markdown",
   "metadata": {},
   "source": [
    "---\n",
    ">### Functions covered in this unit:\n",
    ">\n",
    "> `scatterplot` - (x,y) points on the graphs\n",
    ">\n",
    "> `lineplot` - simple lineplot\n",
    ">\n",
    "> `plt.figure(fixsize(m,n))` - set the size of the graph\\figure to (m,n)\n",
    ">\n",
    "> `boxplot` - create a boxplot\n",
    ">\n",
    "> `reset_index` - reset index to a numerical index beginning at 0\n",
    ">\n",
    "> `sort_values()` - sorts values \n",
    ">\n",
    "> `histplot` - create a histogram\n",
    ">\n",
    "> `std()` - standard deviation\n",
    ">\n",
    "\n",
    "---"
   ]
  },
  {
   "cell_type": "code",
   "execution_count": null,
   "metadata": {},
   "outputs": [],
   "source": []
  }
 ],
 "metadata": {
  "kernelspec": {
   "display_name": "Python 3 (ipykernel)",
   "language": "python",
   "name": "python3"
  },
  "language_info": {
   "codemirror_mode": {
    "name": "ipython",
    "version": 3
   },
   "file_extension": ".py",
   "mimetype": "text/x-python",
   "name": "python",
   "nbconvert_exporter": "python",
   "pygments_lexer": "ipython3",
   "version": "3.11.0"
  }
 },
 "nbformat": 4,
 "nbformat_minor": 4
}
